{
 "cells": [
  {
   "cell_type": "code",
   "execution_count": 2,
   "metadata": {},
   "outputs": [],
   "source": [
    "from __future__ import print_function\n",
    "import matplotlib     # These are needed to run\n",
    "matplotlib.use(\"Agg\") # the code headless.\n",
    "\n",
    "import numpy as np\n",
    "import matplotlib.pyplot as plt\n",
    "import os\n",
    "import sklearn\n",
    "from numpy import interp\n",
    "from sklearn.metrics import roc_curve, roc_auc_score\n",
    "import scipy\n",
    "import datetime\n",
    "%matplotlib inline"
   ]
  },
  {
   "cell_type": "code",
   "execution_count": 3,
   "metadata": {},
   "outputs": [],
   "source": [
    "ssa = []\n",
    "tft = []\n",
    "\n",
    "ssa.append(np.loadtxt(\"../logs/2017-08-07_09:53:00_3d-2channel-realdata-acc_0-of-9.log\", delimiter=\",\"))\n",
    "ssa.append(np.loadtxt(\"../logs/2017-08-07_09:56:00_3d-2channel-realdata-acc_1-of-9.log\", delimiter=\",\"))\n",
    "ssa.append(np.loadtxt(\"../logs/2017-08-07_09:59:00_3d-2channel-realdata-acc_2-of-9.log\", delimiter=\",\"))\n",
    "ssa.append(np.loadtxt(\"../logs/2017-08-07_10:02:00_3d-2channel-realdata-acc_3-of-9.log\", delimiter=\",\"))\n",
    "ssa.append(np.loadtxt(\"../logs/2017-08-07_10:05:00_3d-2channel-realdata-acc_4-of-9.log\", delimiter=\",\"))\n",
    "ssa.append(np.loadtxt(\"../logs/2017-08-07_10:08:00_3d-2channel-realdata-acc_5-of-9.log\", delimiter=\",\"))\n",
    "ssa.append(np.loadtxt(\"../logs/2017-08-07_10:10:00_3d-2channel-realdata-acc_6-of-9.log\", delimiter=\",\"))\n",
    "ssa.append(np.loadtxt(\"../logs/2017-08-07_10:13:00_3d-2channel-realdata-acc_7-of-9.log\", delimiter=\",\"))\n",
    "ssa.append(np.loadtxt(\"../logs/2017-08-07_10:19:00_3d-2channel-realdata-acc_9-of-9.log\", delimiter=\",\"))\n",
    "ssa = np.transpose(np.array(ssa))\n",
    "\n",
    "tft.append(np.loadtxt(\"../logs/2017-08-07_09:53:00_3d-2channel-realdata-roc_0-of-9.log\", delimiter=\",\"))\n",
    "tft.append(np.loadtxt(\"../logs/2017-08-07_09:56:00_3d-2channel-realdata-roc_1-of-9.log\", delimiter=\",\"))\n",
    "tft.append(np.loadtxt(\"../logs/2017-08-07_09:59:00_3d-2channel-realdata-roc_2-of-9.log\", delimiter=\",\"))\n",
    "tft.append(np.loadtxt(\"../logs/2017-08-07_10:02:00_3d-2channel-realdata-roc_3-of-9.log\", delimiter=\",\"))\n",
    "tft.append(np.loadtxt(\"../logs/2017-08-07_10:05:00_3d-2channel-realdata-roc_4-of-9.log\", delimiter=\",\"))\n",
    "tft.append(np.loadtxt(\"../logs/2017-08-07_10:08:00_3d-2channel-realdata-roc_5-of-9.log\", delimiter=\",\"))\n",
    "tft.append(np.loadtxt(\"../logs/2017-08-07_10:10:00_3d-2channel-realdata-roc_6-of-9.log\", delimiter=\",\"))\n",
    "tft.append(np.loadtxt(\"../logs/2017-08-07_10:13:00_3d-2channel-realdata-roc_7-of-9.log\", delimiter=\",\"))\n",
    "tft.append(np.loadtxt(\"../logs/2017-08-07_10:19:00_3d-2channel-realdata-roc_9-of-9.log\", delimiter=\",\"))"
   ]
  },
  {
   "cell_type": "code",
   "execution_count": 8,
   "metadata": {},
   "outputs": [
    {
     "name": "stdout",
     "output_type": "stream",
     "text": [
      "Specificity: [ 0.2         0.          0.66666669  0.2         0.5         0.5         0.75\n",
      "  0.          1.        ]\n",
      "Avg: 0.424074076944\n",
      "Sensitivity: [ 1.          1.          0.33333334  0.          1.          0.25        1.\n",
      "  0.40000001  1.        ]\n",
      "Avg: 0.664814816581\n",
      "ROC AUC: [ 0.6         0.33333333  0.55555556  0.          0.875       0.25        0.75\n",
      "  0.          1.        ]\n",
      "Avg: 0.48487654321\n"
     ]
    },
    {
     "data": {
      "image/png": "[encoded data removed]",
      "text/plain": [
       "<matplotlib.figure.Figure at 0x7f1337cf7490>"
      ]
     },
     "metadata": {},
     "output_type": "display_data"
    }
   ],
   "source": [
    "k = 8\n",
    "\n",
    "dt = str(datetime.datetime.now().replace(second=0, microsecond=0).isoformat(\"_\"))\n",
    "\n",
    "plt.figure(figsize=(5, 5))\n",
    "\n",
    "tprs = []\n",
    "\n",
    "base_fpr = np.linspace(0, 1, 101)\n",
    "\n",
    "for i in np.arange(k):\n",
    "    fpr = tft[i][0]\n",
    "    tpr = tft[i][1]\n",
    "    plt.plot(fpr, tpr, alpha=0.15, color=\"darkblue\")\n",
    "    tpr = interp(base_fpr, fpr, tpr)\n",
    "    tpr[0] = 0.0\n",
    "    tprs.append(tpr)\n",
    "\n",
    "tprs = np.array(tprs)\n",
    "mean_tprs = tprs.mean(axis=0)\n",
    "std = tprs.std(axis=0)\n",
    "\n",
    "tprs_upper = np.minimum(mean_tprs + std, 1)\n",
    "tprs_lower = mean_tprs - std\n",
    "\n",
    "plt.plot(base_fpr, mean_tprs, color=\"darkblue\", label=\"Average ROC curve\")\n",
    "plt.fill_between(base_fpr, tprs_lower, tprs_upper, color='lightblue', alpha=0.3)\n",
    "\n",
    "\n",
    "plt.plot([0, 1], [0, 1],'r--', label=\"Random guess\")\n",
    "plt.xlim([-0.01, 1.01])\n",
    "plt.ylim([-0.01, 1.01])\n",
    "plt.ylabel('True Positive Rate')\n",
    "plt.xlabel('False Positive Rate')\n",
    "plt.title('Real data ROC curve '+dt)\n",
    "plt.legend(loc=4)\n",
    "plt.axes().set_aspect('equal', 'datalim')\n",
    "plt.savefig(\"../figures/rocCurves/\"+dt+\"-cnnrealdata.png\")\n",
    "\n",
    "log = open(\"../logs/\"+dt+\"-cnnrealdata.log\",\"w+\")\n",
    "strOut = str(\"Specificity: \"+str(ssa[0])+\"\\nAvg: \"+str(np.mean(ssa[0]))+\"\\nSensitivity: \"+str(ssa[1])+\"\\nAvg: \"+str(np.mean(ssa[1]))+\"\\nROC AUC: \"+str(ssa[2])+\"\\nAvg: \"+str(np.mean(ssa[2])))\n",
    "log.write(strOut)\n",
    "log.close()\n",
    "print(strOut)"
   ]
  },
  {
   "cell_type": "code",
   "execution_count": null,
   "metadata": {
    "collapsed": true
   },
   "outputs": [],
   "source": []
  }
 ],
 "metadata": {
  "kernelspec": {
   "display_name": "Python 3",
   "language": "python",
   "name": "python3"
  },
  "language_info": {
   "codemirror_mode": {
    "name": "ipython",
    "version": 2
   },
   "file_extension": ".py",
   "mimetype": "text/x-python",
   "name": "python",
   "nbconvert_exporter": "python",
   "pygments_lexer": "ipython2",
   "version": "2.7.13"
  }
 },
 "nbformat": 4,
 "nbformat_minor": 2
}
