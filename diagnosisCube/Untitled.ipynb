{
 "cells": [
  {
   "cell_type": "code",
   "execution_count": 1,
   "metadata": {
    "collapsed": true
   },
   "outputs": [],
   "source": [
    "import numpy as np\n",
    "\n",
    "# Show interactive image of the loss of the CNN when an area of the heart cube is obscured.\n",
    "\n",
    "if __name__ == \"__main__\":\n",
    "    heartCube = np.load(\"../logs/lossCubes/2017-08-10_11:13:00_ppt20_4_heartCube.npy\")[...,1] # 1 is stressed, 0 is calm\n",
    "    #lossCube0 = np.load(\"../logs/lossCubes/2017-08-04_10:49:00_ppt20_4_lossCube-0-of-4.npy\")\n",
    "    #lossCube1 = np.load(\"../logs/lossCubes/2017-08-04_10:59:00_ppt20_4_lossCube-1-of-4.npy\")\n",
    "    #lossCube2 = np.load(\"../logs/lossCubes/2017-08-04_11:09:00_ppt20_4_lossCube-2-of-4.npy\")\n",
    "    #lossCube3 = np.load(\"../logs/lossCubes/2017-08-04_11:19:00_ppt20_4_lossCube-3-of-4.npy\")\n",
    "    #lossCube4 = np.load(\"../logs/lossCubes/2017-08-04_11:29:00_ppt20_4_lossCube-4-of-4.npy\")\n",
    "\n",
    "    lossCube = np.load(\"../logs/lossCubes/2017-08-10_11:13:00_ppt20_4_lossCube.npy\") # lossCube0+lossCube1+lossCube2+lossCube3+lossCube4"
   ]
  },
  {
   "cell_type": "code",
   "execution_count": 2,
   "metadata": {},
   "outputs": [],
   "source": [
    "from mayavi import mlab"
   ]
  },
  {
   "cell_type": "code",
   "execution_count": null,
   "metadata": {},
   "outputs": [],
   "source": [
    "#mlab.pipeline.iso_surface(mlab.pipeline.scalar_field(lossCube), opacity=0.4)\n",
    "mlab.pipeline.image_plane_widget(mlab.pipeline.scalar_field(heartCube),\n",
    "                        plane_orientation='x_axes',\n",
    "                        slice_index=heartCube.shape[0]/2,\n",
    "                    )\n",
    "mlab.pipeline.image_plane_widget(mlab.pipeline.scalar_field(heartCube),\n",
    "                        plane_orientation='y_axes',\n",
    "                        slice_index=heartCube.shape[1]/2,\n",
    "                    )\n",
    "mlab.pipeline.image_plane_widget(mlab.pipeline.scalar_field(heartCube),\n",
    "                        plane_orientation='z_axes',\n",
    "                        slice_index=heartCube.shape[2]/2,\n",
    "                    )\n",
    "mlab.axes()\n",
    "mlab.show()"
   ]
  },
  {
   "cell_type": "code",
   "execution_count": null,
   "metadata": {
    "collapsed": true
   },
   "outputs": [],
   "source": []
  }
 ],
 "metadata": {
  "kernelspec": {
   "display_name": "Python 3",
   "language": "python",
   "name": "python3"
  },
  "language_info": {
   "codemirror_mode": {
    "name": "ipython",
    "version": 2
   },
   "file_extension": ".py",
   "mimetype": "text/x-python",
   "name": "python",
   "nbconvert_exporter": "python",
   "pygments_lexer": "ipython2",
   "version": "2.7.13"
  }
 },
 "nbformat": 4,
 "nbformat_minor": 2
}
