{
 "cells": [
  {
   "cell_type": "code",
   "execution_count": 99,
   "metadata": {},
   "outputs": [],
   "source": [
    "import numpy as np\n",
    "import dicom\n",
    "import matplotlib.pyplot as plt\n",
    "import pyfits\n",
    "from matplotlib import animation\n",
    "from mpl_toolkits.mplot3d import Axes3D\n",
    "from scipy import stats\n",
    "import sklearn, sklearn.preprocessing\n",
    "from skimage.restoration import denoise_nl_means\n",
    "%matplotlib inline"
   ]
  },
  {
   "cell_type": "code",
   "execution_count": 100,
   "metadata": {
    "collapsed": true
   },
   "outputs": [],
   "source": [
    "def cropHeart(inp):\n",
    "    \"\"\"\n",
    "    Crop the heart so that all the padding is done away with.\n",
    "    Output cropped heart.\n",
    "    \"\"\"\n",
    "    # argwhere will give you the coordinates of every non-zero point\n",
    "    true_points = np.argwhere(inp)\n",
    "    # take the smallest points and use them as the top left of your crop\n",
    "    top_left = true_points.min(axis=0)\n",
    "    # take the largest points and use them as the bottom right of your crop\n",
    "    bottom_right = true_points.max(axis=0)\n",
    "    out = inp[top_left[0]:bottom_right[0]+1,  # plus 1 because slice isn't\n",
    "          top_left[1]:bottom_right[1]+1,   # inclusive\n",
    "          top_left[2]:bottom_right[2]+1]  \n",
    "    print(out.shape, \"cropped from\", inp.shape)\n",
    "    return out\n",
    "\n",
    "def plotHeart(inData, cols):\n",
    "    fig, ax = plt.subplots(cols,cols)\n",
    "    k = 0\n",
    "    fig.suptitle(\"Slices of heart data\")\n",
    "    for i in np.arange(cols):\n",
    "        for j in np.arange(cols):\n",
    "            ax[i,j].imshow(inData[k])\n",
    "            ax[i,j].axis(\"off\")\n",
    "            k = k + inData.shape[0]/(cols**2) +1\n",
    "    print(k)\n",
    "    \n",
    "def normalise(inData):\n",
    "    \"\"\"\n",
    "    Normalise 3D data.\n",
    "    \"\"\"\n",
    "    inDataAbs = np.fabs(inData)\n",
    "    inDataMax = np.amax(inData)\n",
    "    croppednorm = inDataAbs/inDataMax\n",
    "    return croppednorm"
   ]
  },
  {
   "cell_type": "code",
   "execution_count": 97,
   "metadata": {},
   "outputs": [],
   "source": [
    "ds0 = dicom.read_file(\"./data/nlst/7/RESTRECONFBPNONAC/1.2.826.0.1.3680043.8.373.1.149242122.1391620200.dcm\")\n",
    "px0 = ds0.pixel_array\n",
    "\n",
    "ds1 = dicom.read_file(\"./data/nlst/7/STRESSRECONFBPNONAC/1.2.826.0.1.3680043.8.373.1.1793586668.13916201980.dcm\")\n",
    "px1 = ds1.pixel_array\n",
    "\n",
    "#ds2 = pyfits.open(\"/tmp/rest_artefact_0000.fits\")[0].data"
   ]
  },
  {
   "cell_type": "code",
   "execution_count": 105,
   "metadata": {},
   "outputs": [
    {
     "name": "stdout",
     "output_type": "stream",
     "text": [
      "((23, 15, 23), 'cropped from', (37, 64, 64))\n",
      "((23, 16, 22), 'cropped from', (36, 64, 64))\n"
     ]
    }
   ],
   "source": [
    "cropped = cropHeart(px1)\n",
    "croppednorm = normalise(cropped)\n",
    "denoised = denoise_nl_means(croppednorm, h=0.1, multichannel=False)\n",
    "#plotHeart(cropped, 3)\n",
    "cropped0 = cropHeart(px0)\n",
    "#cropped1 = normalise(cropHeart(ds2))"
   ]
  },
  {
   "cell_type": "code",
   "execution_count": 106,
   "metadata": {},
   "outputs": [
    {
     "name": "stdout",
     "output_type": "stream",
     "text": [
      "[[ 0.          0.          0.          0.          0.00456621  0.00913242\n",
      "   0.03652968  0.1369863   0.16894977  0.20547946  0.23744293  0.24657534\n",
      "   0.22374429  0.18264841  0.1369863   0.08675799  0.00456621  0.00456621\n",
      "   0.          0.          0.          0.          0.        ]\n",
      " [ 0.          0.          0.          0.02283105  0.1780822   0.29223743\n",
      "   0.33333334  0.35159817  0.36529681  0.39269406  0.44292238  0.45662099\n",
      "   0.39726028  0.2739726   0.15981735  0.11415525  0.12785389  0.14155251\n",
      "   0.08219178  0.          0.          0.          0.        ]\n",
      " [ 0.          0.          0.          0.29223743  0.35159817  0.43378997\n",
      "   0.55251139  0.62557077  0.63926941  0.63470322  0.67123288  0.70776254\n",
      "   0.6438356   0.47945204  0.29223743  0.1780822   0.14611872  0.15525115\n",
      "   0.15525115  0.10045662  0.          0.          0.        ]\n",
      " [ 0.          0.0456621   0.3242009   0.34246576  0.3561644   0.48401827\n",
      "   0.68493152  0.80821919  0.79452056  0.72146118  0.72146118  0.79452056\n",
      "   0.80821919  0.71232879  0.51598173  0.32876712  0.21004567  0.16438356\n",
      "   0.15068494  0.14611872  0.08675799  0.00456621  0.        ]\n",
      " [ 0.01369863  0.31963471  0.39726028  0.33789954  0.33789954  0.48858449\n",
      "   0.73059362  0.84931505  0.7579909   0.59360731  0.56164384  0.68036532\n",
      "   0.80821919  0.84474885  0.71232879  0.4977169   0.30136988  0.20547946\n",
      "   0.1780822   0.16894977  0.17351598  0.12785389  0.        ]\n",
      " [ 0.03652968  0.39726028  0.41095892  0.35159817  0.3561644   0.52511418\n",
      "   0.77625573  0.8538813   0.67123288  0.43378997  0.38356164  0.53424656\n",
      "   0.73515981  0.86757994  0.82191783  0.63013697  0.39726028  0.26027396\n",
      "   0.21917808  0.21004567  0.20547946  0.12328767  0.00456621]\n",
      " [ 0.21917808  0.369863    0.39726028  0.3561644   0.36073059  0.53424656\n",
      "   0.80365294  0.88584477  0.67579907  0.40639269  0.33789954  0.48401827\n",
      "   0.68949771  0.8538813   0.86301368  0.70319635  0.47488585  0.31050229\n",
      "   0.24200913  0.22374429  0.21461187  0.19178082  0.08675799]\n",
      " [ 0.2739726   0.35159817  0.38812786  0.34246576  0.31506848  0.45662099\n",
      "   0.75342464  0.9041096   0.7579909   0.50684929  0.41095892  0.52511418\n",
      "   0.70319635  0.85844749  0.87214613  0.73059362  0.51141554  0.34703195\n",
      "   0.26027396  0.2283105   0.21461187  0.19178082  0.11415525]\n",
      " [ 0.2739726   0.39269406  0.42009133  0.3561644   0.28310502  0.35159817\n",
      "   0.62557077  0.8538813   0.84474885  0.68036532  0.58904111  0.66210043\n",
      "   0.79452056  0.88584477  0.84018266  0.67579907  0.49315068  0.3561644\n",
      "   0.27853882  0.24657534  0.23287672  0.21917808  0.11872146]\n",
      " [ 0.06849315  0.39726028  0.42922375  0.38356164  0.31050229  0.33333334\n",
      "   0.52968037  0.76712328  0.88584477  0.84474885  0.78995436  0.81735158\n",
      "   0.86301368  0.84018266  0.71232879  0.53881276  0.39726028  0.31050229\n",
      "   0.25570777  0.23287672  0.23744293  0.18264841  0.02283105]\n",
      " [ 0.01826484  0.28767124  0.34703195  0.35159817  0.3561644   0.39269406\n",
      "   0.5022831   0.67123288  0.82648402  0.88127851  0.87671232  0.86301368\n",
      "   0.81735158  0.6940639   0.51141554  0.35159817  0.26484019  0.23744293\n",
      "   0.21004567  0.19178082  0.21917808  0.22374429  0.        ]\n",
      " [ 0.          0.05022831  0.20547946  0.26484019  0.33333334  0.41095892\n",
      "   0.46118721  0.53881276  0.6484018   0.73059362  0.7579909   0.74429226\n",
      "   0.66666669  0.52054793  0.35159817  0.23744293  0.20091324  0.20547946\n",
      "   0.20547946  0.19178082  0.14155251  0.00456621  0.        ]\n",
      " [ 0.          0.          0.00456621  0.19634703  0.25570777  0.33333334\n",
      "   0.369863    0.41095892  0.47488585  0.52968037  0.55707765  0.55251139\n",
      "   0.4977169   0.38812786  0.2739726   0.21004567  0.20547946  0.23287672\n",
      "   0.24200913  0.18264841  0.00456621  0.          0.        ]\n",
      " [ 0.          0.          0.          0.02283105  0.15525115  0.24657534\n",
      "   0.31506848  0.39269406  0.43835616  0.43835616  0.42922375  0.40639269\n",
      "   0.35159817  0.2739726   0.20091324  0.1780822   0.21004567  0.24657534\n",
      "   0.18264841  0.          0.          0.          0.        ]\n",
      " [ 0.          0.          0.          0.          0.01369863  0.0456621\n",
      "   0.11872146  0.38812786  0.47031963  0.42465752  0.35159817  0.28310502\n",
      "   0.21461187  0.14611872  0.10045662  0.08675799  0.04109589  0.0456621\n",
      "   0.00913242  0.          0.          0.          0.        ]]\n",
      "[[  0   0   0   0   1   2   8  30  37  45  52  54  49  40  30  19   1   1\n",
      "    0   0   0   0   0]\n",
      " [  0   0   0   5  39  64  73  77  80  86  97 100  87  60  35  25  28  31\n",
      "   18   0   0   0   0]\n",
      " [  0   0   0  64  77  95 121 137 140 139 147 155 141 105  64  39  32  34\n",
      "   34  22   0   0   0]\n",
      " [  0  10  71  75  78 106 150 177 174 158 158 174 177 156 113  72  46  36\n",
      "   33  32  19   1   0]\n",
      " [  3  70  87  74  74 107 160 186 166 130 123 149 177 185 156 109  66  45\n",
      "   39  37  38  28   0]\n",
      " [  8  87  90  77  78 115 170 187 147  95  84 117 161 190 180 138  87  57\n",
      "   48  46  45  27   1]\n",
      " [ 48  81  87  78  79 117 176 194 148  89  74 106 151 187 189 154 104  68\n",
      "   53  49  47  42  19]\n",
      " [ 60  77  85  75  69 100 165 198 166 111  90 115 154 188 191 160 112  76\n",
      "   57  50  47  42  25]\n",
      " [ 60  86  92  78  62  77 137 187 185 149 129 145 174 194 184 148 108  78\n",
      "   61  54  51  48  26]\n",
      " [ 15  87  94  84  68  73 116 168 194 185 173 179 189 184 156 118  87  68\n",
      "   56  51  52  40   5]\n",
      " [  4  63  76  77  78  86 110 147 181 193 192 189 179 152 112  77  58  52\n",
      "   46  42  48  49   0]\n",
      " [  0  11  45  58  73  90 101 118 142 160 166 163 146 114  77  52  44  45\n",
      "   45  42  31   1   0]\n",
      " [  0   0   1  43  56  73  81  90 104 116 122 121 109  85  60  46  45  51\n",
      "   53  40   1   0   0]\n",
      " [  0   0   0   5  34  54  69  86  96  96  94  89  77  60  44  39  46  54\n",
      "   40   0   0   0   0]\n",
      " [  0   0   0   0   3  10  26  85 103  93  77  62  47  32  22  19   9  10\n",
      "    2   0   0   0   0]]\n"
     ]
    }
   ],
   "source": [
    "print(croppednorm[10])\n",
    "print(cropped[10])"
   ]
  },
  {
   "cell_type": "code",
   "execution_count": 107,
   "metadata": {},
   "outputs": [
    {
     "data": {
      "image/png": "[encoded data removed]",
      "text/plain": [
       "<matplotlib.figure.Figure at 0x7f44a8478390>"
      ]
     },
     "metadata": {},
     "output_type": "display_data"
    }
   ],
   "source": [
    "fig = plt.figure()\n",
    "ax = fig.add_subplot(111)\n",
    "data = denoised[0]\n",
    "\n",
    "def animate(i):\n",
    "    data = denoised[i]\n",
    "    return ax.imshow(data)\n",
    "\n",
    "plt.axis(\"off\")\n",
    "plt.title(\"Example of data used\")\n",
    "anim = animation.FuncAnimation(fig, animate, frames=np.arange(cropped.shape[0]), repeat=False)\n",
    "anim.save(\"/tmp/3D-Data-Example.mp4\")"
   ]
  },
  {
   "cell_type": "code",
   "execution_count": 104,
   "metadata": {},
   "outputs": [
    {
     "data": {
      "image/png": "[encoded data removed]",
      "text/plain": [
       "<matplotlib.figure.Figure at 0x7f44a832f590>"
      ]
     },
     "metadata": {},
     "output_type": "display_data"
    }
   ],
   "source": [
    "fig = plt.figure()\n",
    "ax = fig.add_subplot(111)\n",
    "data = croppednorm[0]\n",
    "\n",
    "def animate(i):\n",
    "    data = croppednorm[i]\n",
    "    return ax.imshow(data)\n",
    "\n",
    "plt.axis(\"off\")\n",
    "plt.title(\"Example of data used\")\n",
    "anim = animation.FuncAnimation(fig, animate, frames=np.arange(croppednorm.shape[0]), repeat=False)\n",
    "anim.save(\"/tmp/3D-Data-Example1.mp4\")"
   ]
  },
  {
   "cell_type": "code",
   "execution_count": 47,
   "metadata": {
    "scrolled": true
   },
   "outputs": [],
   "source": [
    "from mayavi import mlab"
   ]
  },
  {
   "cell_type": "code",
   "execution_count": 49,
   "metadata": {
    "collapsed": true
   },
   "outputs": [],
   "source": [
    "mlab.pipeline.image_plane_widget(mlab.pipeline.scalar_field(denoised),\n",
    "                            plane_orientation='x_axes',\n",
    "                            slice_index=cropped.shape[0]/2,\n",
    "                        )\n",
    "mlab.pipeline.image_plane_widget(mlab.pipeline.scalar_field(denoised),\n",
    "                            plane_orientation='y_axes',\n",
    "                            slice_index=cropped.shape[1]/2,\n",
    "                        )\n",
    "\n",
    "mlab.pipeline.image_plane_widget(mlab.pipeline.scalar_field(denoised),\n",
    "                            plane_orientation='z_axes',\n",
    "                            slice_index=cropped.shape[2]/2,\n",
    "                        )\n",
    "mlab.axes()\n",
    "mlab.show()"
   ]
  },
  {
   "cell_type": "code",
   "execution_count": null,
   "metadata": {
    "collapsed": true
   },
   "outputs": [],
   "source": []
  }
 ],
 "metadata": {
  "kernelspec": {
   "display_name": "Python 3",
   "language": "python",
   "name": "python3"
  },
  "language_info": {
   "codemirror_mode": {
    "name": "ipython",
    "version": 2
   },
   "file_extension": ".py",
   "mimetype": "text/x-python",
   "name": "python",
   "nbconvert_exporter": "python",
   "pygments_lexer": "ipython2",
   "version": "2.7.13"
  }
 },
 "nbformat": 4,
 "nbformat_minor": 2
}
