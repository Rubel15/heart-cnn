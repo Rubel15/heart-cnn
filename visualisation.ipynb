{
 "cells": [
  {
   "cell_type": "code",
   "execution_count": 33,
   "metadata": {},
   "outputs": [],
   "source": [
    "import numpy as np\n",
    "import dicom\n",
    "import matplotlib.pyplot as plt\n",
    "import pyfits\n",
    "from matplotlib import animation\n",
    "from mpl_toolkits.mplot3d import Axes3D\n",
    "from scipy import stats\n",
    "import scipy\n",
    "import sklearn, sklearn.preprocessing\n",
    "from skimage.restoration import denoise_nl_means\n",
    "import pyvtk\n",
    "%matplotlib inline\n",
    "%matplotlib notebook"
   ]
  },
  {
   "cell_type": "code",
   "execution_count": 34,
   "metadata": {
    "collapsed": true
   },
   "outputs": [],
   "source": [
    "def cropHeart(inp):\n",
    "    \"\"\"\n",
    "    Crop the heart so that all the padding is done away with.\n",
    "    Output cropped heart.\n",
    "    \"\"\"\n",
    "    # argwhere will give you the coordinates of every non-zero point\n",
    "    true_points = np.argwhere(inp)\n",
    "    # take the smallest points and use them as the top left of your crop\n",
    "    top_left = true_points.min(axis=0)\n",
    "    # take the largest points and use them as the bottom right of your crop\n",
    "    bottom_right = true_points.max(axis=0)\n",
    "    out = inp[top_left[0]:bottom_right[0]+1,  # plus 1 because slice isn't\n",
    "          top_left[1]:bottom_right[1]+1,   # inclusive\n",
    "          top_left[2]:bottom_right[2]+1]  \n",
    "    print(out.shape, \"cropped from\", inp.shape)\n",
    "    return out\n",
    "\n",
    "def plotHeart(inData, cols):\n",
    "    fig, ax = plt.subplots(cols,cols)\n",
    "    k = 0\n",
    "    fig.suptitle(\"Slices of heart data\")\n",
    "    for i in np.arange(cols):\n",
    "        for j in np.arange(cols):\n",
    "            ax[i,j].imshow(inData[k])\n",
    "            ax[i,j].axis(\"off\")\n",
    "            k = k + inData.shape[0]/(cols**2) +1\n",
    "    print(k)\n",
    "    \n",
    "def importHeartData(calmFile, stressFile, resize):\n",
    "    \"\"\"\n",
    "    Import heart data and extract the pixel array.\n",
    "    Slice halfway along ind axis.\n",
    "    Concatenate and return stress file and calm file.\n",
    "    If resize == 1, interpolate data to fit (34,34) arr.\n",
    "    \"\"\"\n",
    "    calmTmp = dicom.read_file(calmFile).pixel_array\n",
    "    stressTmp = dicom.read_file(stressFile).pixel_array\n",
    "\n",
    "    calmTmp = cropHeart(calmTmp)\n",
    "    stressTmp = cropHeart(stressTmp)\n",
    "\n",
    "    # Pad the 3d arrays with zeros so that they are all the same size\n",
    "    zeroArr0 = np.zeros((34,34,34))\n",
    "    zeroArr1 = np.zeros((34,34,34))\n",
    "\n",
    "    if resize == 1:\n",
    "        # Resize the 3D slices\n",
    "        calmRatio = 34.0/np.amax(calmTmp.shape)\n",
    "        stressRatio = 34.0/np.amax(stressTmp.shape)\n",
    "\n",
    "        calm3d = scipy.ndimage.interpolation.zoom(calmTmp, (calmRatio))\n",
    "        stress3d = scipy.ndimage.interpolation.zoom(stressTmp, (stressRatio))\n",
    "\n",
    "        zeroArr0[:calm3d.shape[0],:calm3d.shape[1],:calm3d.shape[2]] = calm3d\n",
    "        zeroArr1[:stress3d.shape[0],:stress3d.shape[1],:stress3d.shape[2]] = stress3d\n",
    "\n",
    "    else:\n",
    "        zeroArr0[:calm3d.shape[0],:calm3d.shape[1],:calm3d.shape[2]] = calm3d\n",
    "        zeroArr1[:stress3d.shape[0],:stress3d.shape[1],:stress3d.shape[2]] = stress3d\n",
    "\n",
    "    zeroArr0 = normalise(zeroArr0)\n",
    "    zeroArr1 = normalise(zeroArr1)\n",
    "\n",
    "    catOut = [zeroArr0, zeroArr1]\n",
    "    return catOut\n",
    "    \n",
    "def normalise(inData):\n",
    "    \"\"\"\n",
    "    Normalise 3D data.\n",
    "    \"\"\"\n",
    "    inDataAbs = np.fabs(inData)\n",
    "    inDataMax = np.amax(inData)\n",
    "    croppednorm = inDataAbs/inDataMax\n",
    "    return croppednorm"
   ]
  },
  {
   "cell_type": "code",
   "execution_count": 37,
   "metadata": {},
   "outputs": [],
   "source": [
    "#ds0 = dicom.read_file(\"./data/nlst/7/RESTRECONFBPNONAC/1.2.826.0.1.3680043.8.373.1.149242122.1391620200.dcm\")\n",
    "#px0 = ds0.pixel_array\n",
    "\n",
    "#inData = importHeartData(\"./data/nlst/7/RESTRECONFBPNONAC/1.2.826.0.1.3680043.8.373.1.149242122.1391620200.dcm\",\\\n",
    "#                        \"./data/nlst/7/STRESSRECONFBPNONAC/1.2.826.0.1.3680043.8.373.1.1793586668.13916201980.dcm\",\\\n",
    "#                        1)\n",
    "#ds1 = dicom.read_file(\"./data/nlst/7/STRESSRECONFBPNONAC/1.2.826.0.1.3680043.8.373.1.1793586668.13916201980.dcm\")\n",
    "#px1 = ds1.pixel_array\n",
    "\n",
    "#ds2 = pyfits.open(\"/tmp/stress_infarction_0000.fits\")[0].data"
   ]
  },
  {
   "cell_type": "code",
   "execution_count": 4,
   "metadata": {
    "collapsed": true
   },
   "outputs": [],
   "source": [
    "#cropped = cropHeart(px1)\n",
    "#croppednorm = normalise(cropped)\n",
    "#denoised = denoise_nl_means(croppednorm, h=0.1, multichannel=False)\n",
    "#plotHeart(cropped, 3)\n",
    "#cropped0 = cropHeart(px0)\n",
    "#cropped1 = normalise(cropHeart(ds2))"
   ]
  },
  {
   "cell_type": "code",
   "execution_count": 5,
   "metadata": {},
   "outputs": [
    {
     "data": {
      "text/plain": [
       "array([[[ 0.,  0.,  0., ...,  0.,  0.,  0.],\n",
       "        [ 0.,  0.,  0., ...,  0.,  0.,  0.],\n",
       "        [ 0.,  0.,  0., ...,  0.,  0.,  0.],\n",
       "        ..., \n",
       "        [ 0.,  0.,  0., ...,  0.,  0.,  0.],\n",
       "        [ 0.,  0.,  0., ...,  0.,  0.,  0.],\n",
       "        [ 0.,  0.,  0., ...,  0.,  0.,  0.]],\n",
       "\n",
       "       [[ 0.,  0.,  0., ...,  0.,  0.,  0.],\n",
       "        [ 0.,  0.,  0., ...,  0.,  0.,  0.],\n",
       "        [ 0.,  0.,  0., ...,  0.,  0.,  0.],\n",
       "        ..., \n",
       "        [ 0.,  0.,  0., ...,  0.,  0.,  0.],\n",
       "        [ 0.,  0.,  0., ...,  0.,  0.,  0.],\n",
       "        [ 0.,  0.,  0., ...,  0.,  0.,  0.]],\n",
       "\n",
       "       [[ 0.,  0.,  0., ...,  0.,  0.,  0.],\n",
       "        [ 0.,  0.,  0., ...,  0.,  0.,  0.],\n",
       "        [ 0.,  0.,  0., ...,  0.,  0.,  0.],\n",
       "        ..., \n",
       "        [ 0.,  0.,  0., ...,  0.,  0.,  0.],\n",
       "        [ 0.,  0.,  0., ...,  0.,  0.,  0.],\n",
       "        [ 0.,  0.,  0., ...,  0.,  0.,  0.]],\n",
       "\n",
       "       ..., \n",
       "       [[ 0.,  0.,  0., ...,  0.,  0.,  0.],\n",
       "        [ 0.,  0.,  0., ...,  0.,  0.,  0.],\n",
       "        [ 0.,  0.,  0., ...,  0.,  0.,  0.],\n",
       "        ..., \n",
       "        [ 0.,  0.,  0., ...,  0.,  0.,  0.],\n",
       "        [ 0.,  0.,  0., ...,  0.,  0.,  0.],\n",
       "        [ 0.,  0.,  0., ...,  0.,  0.,  0.]],\n",
       "\n",
       "       [[ 0.,  0.,  0., ...,  0.,  0.,  0.],\n",
       "        [ 0.,  0.,  0., ...,  0.,  0.,  0.],\n",
       "        [ 0.,  0.,  0., ...,  0.,  0.,  0.],\n",
       "        ..., \n",
       "        [ 0.,  0.,  0., ...,  0.,  0.,  0.],\n",
       "        [ 0.,  0.,  0., ...,  0.,  0.,  0.],\n",
       "        [ 0.,  0.,  0., ...,  0.,  0.,  0.]],\n",
       "\n",
       "       [[ 0.,  0.,  0., ...,  0.,  0.,  0.],\n",
       "        [ 0.,  0.,  0., ...,  0.,  0.,  0.],\n",
       "        [ 0.,  0.,  0., ...,  0.,  0.,  0.],\n",
       "        ..., \n",
       "        [ 0.,  0.,  0., ...,  0.,  0.,  0.],\n",
       "        [ 0.,  0.,  0., ...,  0.,  0.,  0.],\n",
       "        [ 0.,  0.,  0., ...,  0.,  0.,  0.]]])"
      ]
     },
     "execution_count": 5,
     "metadata": {},
     "output_type": "execute_result"
    }
   ],
   "source": [
    "#print(croppednorm[10])\n",
    "#print(cropped[10])\n",
    "#print(denoised[10])\n",
    "a = np.array(inData[0])\n",
    "a\n",
    "#inData[0].shape[0], cube.shape"
   ]
  },
  {
   "cell_type": "code",
   "execution_count": 41,
   "metadata": {
    "scrolled": true
   },
   "outputs": [
    {
     "data": {
      "image/png": "[encoded data removed]",
      "text/plain": [
       "<matplotlib.figure.Figure at 0x7fc59087a750>"
      ]
     },
     "metadata": {},
     "output_type": "display_data"
    }
   ],
   "source": [
    "fig = plt.figure()\n",
    "ax = fig.add_subplot(111)\n",
    "data = cube[0]\n",
    "\n",
    "def animate(i):\n",
    "    data = cube[i]\n",
    "    return ax.imshow(data)\n",
    "\n",
    "plt.axis(\"off\")\n",
    "plt.title(\"Example of data used\")\n",
    "anim = animation.FuncAnimation(fig, animate, frames=np.arange(cube.shape[0]), repeat=False)\n",
    "anim.save(\"/tmp/3D-Data-Example.mp4\")"
   ]
  },
  {
   "cell_type": "code",
   "execution_count": 116,
   "metadata": {
    "scrolled": true
   },
   "outputs": [
    {
     "data": {
      "image/png": "[encoded data removed]",
      "text/plain": [
       "<matplotlib.figure.Figure at 0x7f4493e6ea90>"
      ]
     },
     "metadata": {},
     "output_type": "display_data"
    }
   ],
   "source": [
    "fig = plt.figure()\n",
    "ax = fig.add_subplot(111)\n",
    "data = croppednorm[0]\n",
    "\n",
    "def animate(i):\n",
    "    data = croppednorm[i]\n",
    "    return ax.imshow(data)\n",
    "\n",
    "plt.axis(\"off\")\n",
    "plt.title(\"Example of data used\")\n",
    "anim = animation.FuncAnimation(fig, animate, frames=np.arange(croppednorm.shape[0]), repeat=False)\n",
    "anim.save(\"/tmp/3D-Data-Example1.mp4\")"
   ]
  },
  {
   "cell_type": "code",
   "execution_count": 24,
   "metadata": {
    "collapsed": true,
    "scrolled": true
   },
   "outputs": [],
   "source": [
    "from mayavi import mlab"
   ]
  },
  {
   "cell_type": "code",
   "execution_count": 140,
   "metadata": {},
   "outputs": [],
   "source": [
    "what2 = np.load(\"/home/mike/Documents/UoH_job/heart_cnn/logs/lossCubes/2017-08-01_15:52:00_ppt41_lossCube.npy\")\n",
    "what = np.load(\"/home/mike/Documents/UoH_job/heart_cnn/logs/lossCubes/2017-08-01_15:52:00_ppt41_heartCube.npy\")[...,1]\n",
    "\n",
    "mlab.pipeline.iso_surface(mlab.pipeline.scalar_field(what2), opacity=0.4)\n",
    "\n",
    "mlab.pipeline.image_plane_widget(mlab.pipeline.scalar_field(what),\n",
    "                            plane_orientation='x_axes',\n",
    "                            slice_index=what.shape[0]/2,\n",
    "                        )\n",
    "mlab.pipeline.image_plane_widget(mlab.pipeline.scalar_field(what),\n",
    "                            plane_orientation='y_axes',\n",
    "                            slice_index=what.shape[1]/2,\n",
    "                        )\n",
    "\n",
    "mlab.pipeline.image_plane_widget(mlab.pipeline.scalar_field(what),\n",
    "                            plane_orientation='z_axes',\n",
    "                            slice_index=what.shape[2]/2,\n",
    "                        )\n",
    "\n",
    "mlab.axes()\n",
    "mlab.show()"
   ]
  },
  {
   "cell_type": "code",
   "execution_count": 96,
   "metadata": {},
   "outputs": [],
   "source": [
    "loss=5\n",
    "width = 5\n",
    "lossCube=np.zeros((15,15))\n",
    "for i in np.arange(lossCube.shape[0]-width):\n",
    "    for j in np.arange(lossCube.shape[1]-width):\n",
    "        lossCube[i+width/2,j+width/2] = loss"
   ]
  },
  {
   "cell_type": "code",
   "execution_count": 109,
   "metadata": {},
   "outputs": [
    {
     "name": "stdout",
     "output_type": "stream",
     "text": [
      "[[  9.99438112e-01   9.99236071e-01   9.97926470e-01   9.80120556e-01\n",
      "    9.15529621e-01   7.22924173e-01   4.40035534e-01   5.21143647e-01\n",
      "    7.33187197e-01   9.33711240e-01]\n",
      " [  9.99522529e-01   9.99077013e-01   9.88595912e-01   7.74175860e-01\n",
      "    1.91073894e-01   2.56264394e-02   4.55454095e-03   5.34440329e-03\n",
      "    1.35641225e-02   9.42772748e-02]\n",
      " [  9.99200062e-01   9.93849340e-01   8.32640875e-01   1.46167576e-01\n",
      "    1.05076313e-02   1.86666010e-03   7.28814785e-04   6.84996473e-04\n",
      "    1.05014907e-03   2.39516260e-03]\n",
      " [  9.97731285e-01   9.52127153e-01   3.59625294e-01   2.36561654e-02\n",
      "    2.49573606e-03   1.00507881e-03   3.47565660e-04   2.83477653e-04\n",
      "    4.35977302e-04   9.50946800e-04]\n",
      " [  9.90093007e-01   8.48914042e-01   1.95477783e-01   1.45112538e-02\n",
      "    2.64287020e-03   1.15948620e-03   4.79676381e-04   3.53646569e-04\n",
      "    4.71806970e-04   1.04067001e-03]\n",
      " [  9.84462623e-01   8.54416847e-01   3.93240319e-01   1.10153216e-01\n",
      "    4.26708090e-02   9.54798043e-03   1.71320658e-03   1.31973602e-03\n",
      "    1.56142233e-03   3.39267008e-03]\n",
      " [  9.83590787e-01   9.19459915e-01   7.64286514e-01   6.54373255e-01\n",
      "    6.72656640e-01   4.62885919e-01   1.80591182e-01   1.28617597e-01\n",
      "    1.52345243e-01   3.34251451e-01]\n",
      " [  9.73240008e-01   9.03474339e-01   8.53113208e-01   8.80683094e-01\n",
      "    9.38930687e-01   9.60165994e-01   9.64904751e-01   9.59082877e-01\n",
      "    9.54963241e-01   9.75622710e-01]\n",
      " [  8.89443715e-01   7.56418652e-01   7.28969014e-01   8.51170894e-01\n",
      "    9.44037100e-01   9.88251923e-01   9.97942864e-01   9.98849814e-01\n",
      "    9.99061453e-01   9.99238634e-01]\n",
      " [  7.79002491e-01   5.54973054e-01   5.97343752e-01   7.88704223e-01\n",
      "    9.36659944e-01   9.85846566e-01   9.98085825e-01   9.99129715e-01\n",
      "    9.99398288e-01   9.99552040e-01]]\n",
      "[[  5.61887881e-04   7.63929052e-04   2.07353023e-03   1.98794442e-02\n",
      "    8.44703788e-02   2.77075827e-01   5.59964466e-01   4.78856353e-01\n",
      "    2.66812803e-01   6.62887601e-02]\n",
      " [  4.77470561e-04   9.22986544e-04   1.14040884e-02   2.25824140e-01\n",
      "    8.08926106e-01   9.74373561e-01   9.95445459e-01   9.94655597e-01\n",
      "    9.86435878e-01   9.05722725e-01]\n",
      " [  7.99937569e-04   6.15066023e-03   1.67359125e-01   8.53832424e-01\n",
      "    9.89492369e-01   9.98133340e-01   9.99271185e-01   9.99315004e-01\n",
      "    9.98949851e-01   9.97604837e-01]\n",
      " [  2.26871547e-03   4.78728475e-02   6.40374706e-01   9.76343835e-01\n",
      "    9.97504264e-01   9.98994921e-01   9.99652434e-01   9.99716522e-01\n",
      "    9.99564023e-01   9.99049053e-01]\n",
      " [  9.90699250e-03   1.51085958e-01   8.04522217e-01   9.85488746e-01\n",
      "    9.97357130e-01   9.98840514e-01   9.99520324e-01   9.99646353e-01\n",
      "    9.99528193e-01   9.98959330e-01]\n",
      " [  1.55373773e-02   1.45583153e-01   6.06759681e-01   8.89846784e-01\n",
      "    9.57329191e-01   9.90452020e-01   9.98286793e-01   9.98680264e-01\n",
      "    9.98438578e-01   9.96607330e-01]\n",
      " [  1.64092127e-02   8.05400848e-02   2.35713486e-01   3.45626745e-01\n",
      "    3.27343360e-01   5.37114081e-01   8.19408818e-01   8.71382403e-01\n",
      "    8.47654757e-01   6.65748549e-01]\n",
      " [  2.67599923e-02   9.65256609e-02   1.46886792e-01   1.19316906e-01\n",
      "    6.10693135e-02   3.98340055e-02   3.50952488e-02   4.09171226e-02\n",
      "    4.50367594e-02   2.43772896e-02]\n",
      " [  1.10556285e-01   2.43581348e-01   2.71030986e-01   1.48829106e-01\n",
      "    5.59629003e-02   1.17480770e-02   2.05713562e-03   1.15018598e-03\n",
      "    9.38546516e-04   7.61365531e-04]\n",
      " [  2.20997509e-01   4.45026946e-01   4.02656248e-01   2.11295777e-01\n",
      "    6.33400559e-02   1.41534341e-02   1.91417465e-03   8.70285336e-04\n",
      "    6.01711871e-04   4.47960269e-04]]\n"
     ]
    }
   ],
   "source": [
    "what2 = np.load(\"/home/mike/Documents/UoH_job/heart_cnn/logs/lossCubes/2017-08-01_13:51:00_ppt40_lossCube.npy\")\n",
    "print(what2[10,10:20,10:20])\n",
    "what2 = abs(what2-1)\n",
    "print(what2[10,10:20,10:20])"
   ]
  },
  {
   "cell_type": "code",
   "execution_count": 85,
   "metadata": {},
   "outputs": [
    {
     "name": "stdout",
     "output_type": "stream",
     "text": [
      "[[ 0.07407407  0.13580247  0.19753086  0.25925926  0.25925926  0.25925926\n",
      "   0.25925926  0.19753086  0.13580247  0.07407407]\n",
      " [ 0.13580247  0.25925926  0.38271605  0.50617284  0.50617284  0.50617284\n",
      "   0.50617284  0.38271605  0.25925926  0.13580247]\n",
      " [ 0.19753086  0.38271605  0.56790123  0.75308642  0.75308642  0.75308642\n",
      "   0.75308642  0.56790123  0.38271605  0.19753086]\n",
      " [ 0.25925926  0.50617284  0.75308642  1.          1.          1.          1.\n",
      "   0.75308642  0.50617284  0.25925926]\n",
      " [ 0.25925926  0.50617284  0.75308642  1.          1.          1.          1.\n",
      "   0.75308642  0.50617284  0.25925926]\n",
      " [ 0.25925926  0.50617284  0.75308642  1.          1.          1.          1.\n",
      "   0.75308642  0.50617284  0.25925926]\n",
      " [ 0.25925926  0.50617284  0.75308642  1.          1.          1.          1.\n",
      "   0.75308642  0.50617284  0.25925926]\n",
      " [ 0.19753086  0.38271605  0.56790123  0.75308642  0.75308642  0.75308642\n",
      "   0.75308642  0.56790123  0.38271605  0.19753086]\n",
      " [ 0.13580247  0.25925926  0.38271605  0.50617284  0.50617284  0.50617284\n",
      "   0.50617284  0.38271605  0.25925926  0.13580247]\n",
      " [ 0.07407407  0.13580247  0.19753086  0.25925926  0.25925926  0.25925926\n",
      "   0.25925926  0.19753086  0.13580247  0.07407407]]\n"
     ]
    }
   ],
   "source": [
    "print(normalise(lossCube))"
   ]
  },
  {
   "cell_type": "code",
   "execution_count": null,
   "metadata": {
    "collapsed": true
   },
   "outputs": [],
   "source": []
  }
 ],
 "metadata": {
  "kernelspec": {
   "display_name": "Python 3",
   "language": "python",
   "name": "python3"
  },
  "language_info": {
   "codemirror_mode": {
    "name": "ipython",
    "version": 2
   },
   "file_extension": ".py",
   "mimetype": "text/x-python",
   "name": "python",
   "nbconvert_exporter": "python",
   "pygments_lexer": "ipython2",
   "version": "2.7.13"
  }
 },
 "nbformat": 4,
 "nbformat_minor": 2
}
