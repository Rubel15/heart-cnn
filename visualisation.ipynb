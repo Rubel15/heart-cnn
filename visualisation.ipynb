{
 "cells": [
  {
   "cell_type": "code",
   "execution_count": 4,
   "metadata": {},
   "outputs": [],
   "source": [
    "import numpy as np\n",
    "import dicom\n",
    "import matplotlib.pyplot as plt\n",
    "import pyfits\n",
    "from matplotlib import animation\n",
    "from mpl_toolkits.mplot3d import Axes3D\n",
    "from scipy import stats\n",
    "import sklearn, sklearn.preprocessing\n",
    "%matplotlib inline"
   ]
  },
  {
   "cell_type": "code",
   "execution_count": 2,
   "metadata": {
    "collapsed": true
   },
   "outputs": [],
   "source": [
    "def cropHeart(inp):\n",
    "    \"\"\"\n",
    "    Crop the heart so that all the padding is done away with.\n",
    "    Output cropped heart.\n",
    "    \"\"\"\n",
    "    # argwhere will give you the coordinates of every non-zero point\n",
    "    true_points = np.argwhere(inp)\n",
    "    # take the smallest points and use them as the top left of your crop\n",
    "    top_left = true_points.min(axis=0)\n",
    "    # take the largest points and use them as the bottom right of your crop\n",
    "    bottom_right = true_points.max(axis=0)\n",
    "    out = inp[top_left[0]:bottom_right[0]+1,  # plus 1 because slice isn't\n",
    "          top_left[1]:bottom_right[1]+1,   # inclusive\n",
    "          top_left[2]:bottom_right[2]+1]  \n",
    "    print(out.shape, \"cropped from\", inp.shape)\n",
    "    return out\n",
    "\n",
    "def plotHeart(inData, cols):\n",
    "    fig, ax = plt.subplots(cols,cols)\n",
    "    k = 0\n",
    "    fig.suptitle(\"Slices of heart data\")\n",
    "    for i in np.arange(cols):\n",
    "        for j in np.arange(cols):\n",
    "            ax[i,j].imshow(inData[k])\n",
    "            ax[i,j].axis(\"off\")\n",
    "            k = k + inData.shape[0]/(cols**2) +1\n",
    "    print(k)\n",
    "    \n",
    "def normalise(inData):\n",
    "    \"\"\"\n",
    "    Normalise 3D data slice by slice.\n",
    "    \"\"\"\n",
    "    croppednorm = np.zeros((inData.shape[0], inData.shape[1], inData.shape[2]))\n",
    "    for i in np.arange(inData.shape[0]):\n",
    "        croppednorm[i] = sklearn.preprocessing.normalize(inData[i], axis=0)\n",
    "    return croppednorm"
   ]
  },
  {
   "cell_type": "code",
   "execution_count": 5,
   "metadata": {
    "collapsed": true
   },
   "outputs": [],
   "source": [
    "ds0 = dicom.read_file(\"./data/nlst/7/RESTRECONFBPNONAC/1.2.826.0.1.3680043.8.373.1.149242122.1391620200.dcm\")\n",
    "px0 = ds0.pixel_array\n",
    "\n",
    "ds1 = dicom.read_file(\"./data/nlst/7/STRESSRECONFBPNONAC/1.2.826.0.1.3680043.8.373.1.1793586668.13916201980.dcm\")\n",
    "px1 = ds1.pixel_array\n",
    "\n",
    "ds2 = pyfits.open(\"/tmp/rest_artefact_0000.fits\")[0].data"
   ]
  },
  {
   "cell_type": "code",
   "execution_count": 10,
   "metadata": {},
   "outputs": [
    {
     "name": "stdout",
     "output_type": "stream",
     "text": [
      "((23, 15, 23), 'cropped from', (37, 64, 64))\n",
      "((23, 16, 22), 'cropped from', (36, 64, 64))\n",
      "((24, 24, 25), 'cropped from', (38, 64, 64))\n"
     ]
    },
    {
     "name": "stderr",
     "output_type": "stream",
     "text": [
      "/usr/local/lib/python2.7/dist-packages/sklearn/utils/validation.py:429: DataConversionWarning: Data with input dtype >f8 was converted to float64 by the normalize function.\n",
      "  warnings.warn(msg, _DataConversionWarning)\n"
     ]
    }
   ],
   "source": [
    "cropped = cropHeart(px1)\n",
    "croppednorm = normalise(cropped)\n",
    "#plotHeart(cropped, 3)\n",
    "cropped0 = cropHeart(px0)\n",
    "cropped1 = normalise(cropHeart(ds2))"
   ]
  },
  {
   "cell_type": "code",
   "execution_count": 11,
   "metadata": {},
   "outputs": [
    {
     "data": {
      "image/png": "[encoded data removed]",
      "text/plain": [
       "<matplotlib.figure.Figure at 0x7f61228a05d0>"
      ]
     },
     "metadata": {},
     "output_type": "display_data"
    }
   ],
   "source": [
    "fig = plt.figure()\n",
    "ax = fig.add_subplot(111)\n",
    "data = cropped1[0]\n",
    "\n",
    "def animate(i):\n",
    "    data = cropped1[i]\n",
    "    return ax.imshow(data)\n",
    "\n",
    "plt.axis(\"off\")\n",
    "plt.title(\"Example of data used\")\n",
    "anim = animation.FuncAnimation(fig, animate, frames=np.arange(cropped.shape[0]), repeat=False)\n",
    "anim.save(\"/tmp/3D-Data-Example.mp4\")"
   ]
  },
  {
   "cell_type": "code",
   "execution_count": 7,
   "metadata": {
    "scrolled": true
   },
   "outputs": [
    {
     "data": {
      "text/plain": [
       "'\\nnewcrop = cropped0[10:]\\n\\nx, y, z = np.nonzero(newcrop)\\ns = newcrop[np.nonzero(newcrop)]\\n\\n# Plot scatter with mayavi\\nfigure = mlab.figure(\\'DensityPlot\\')\\npts = mlab.points3d(x, y, z, s, transparent=True, scale_mode=\\'scalar\\', mode=\"cube\",                     scale_factor=0.007, vmin=30)\\n                    \\nmlab.axes()\\nmlab.show()'"
      ]
     },
     "execution_count": 7,
     "metadata": {},
     "output_type": "execute_result"
    }
   ],
   "source": [
    "from mayavi import mlab\n",
    "\"\"\"\n",
    "newcrop = cropped0[10:]\n",
    "\n",
    "x, y, z = np.nonzero(newcrop)\n",
    "s = newcrop[np.nonzero(newcrop)]\n",
    "\n",
    "# Plot scatter with mayavi\n",
    "figure = mlab.figure('DensityPlot')\n",
    "pts = mlab.points3d(x, y, z, s, transparent=True, scale_mode='scalar', mode=\"cube\", \\\n",
    "                    scale_factor=0.007, vmin=30)\n",
    "                    \n",
    "mlab.axes()\n",
    "mlab.show()\"\"\""
   ]
  },
  {
   "cell_type": "code",
   "execution_count": 10,
   "metadata": {
    "collapsed": true
   },
   "outputs": [],
   "source": [
    "mlab.pipeline.image_plane_widget(mlab.pipeline.scalar_field(cropped),\n",
    "                            plane_orientation='x_axes',\n",
    "                            slice_index=cropped.shape[0]/2,\n",
    "                        )\n",
    "mlab.pipeline.image_plane_widget(mlab.pipeline.scalar_field(cropped),\n",
    "                            plane_orientation='y_axes',\n",
    "                            slice_index=cropped.shape[1]/2,\n",
    "                        )\n",
    "\n",
    "mlab.pipeline.image_plane_widget(mlab.pipeline.scalar_field(cropped),\n",
    "                            plane_orientation='z_axes',\n",
    "                            slice_index=cropped.shape[2]/2,\n",
    "                        )\n",
    "mlab.axes()\n",
    "mlab.show()"
   ]
  }
 ],
 "metadata": {
  "kernelspec": {
   "display_name": "Python 3",
   "language": "python",
   "name": "python3"
  },
  "language_info": {
   "codemirror_mode": {
    "name": "ipython",
    "version": 2
   },
   "file_extension": ".py",
   "mimetype": "text/x-python",
   "name": "python",
   "nbconvert_exporter": "python",
   "pygments_lexer": "ipython2",
   "version": "2.7.13"
  }
 },
 "nbformat": 4,
 "nbformat_minor": 2
}
