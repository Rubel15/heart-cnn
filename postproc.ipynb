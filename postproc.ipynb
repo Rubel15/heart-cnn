{
 "cells": [
  {
   "cell_type": "code",
   "execution_count": null,
   "metadata": {
    "collapsed": true
   },
   "outputs": [],
   "source": [
    "from __future__ import print_function\n",
    "import matplotlib     # These are needed to run\n",
    "matplotlib.use(\"Agg\") # the code headless.\n",
    "\n",
    "import numpy as np\n",
    "import matplotlib.pyplot as plt\n",
    "import os\n",
    "import sklearn\n",
    "from numpy import interp\n",
    "from sklearn.metrics import roc_curve, roc_auc_score\n",
    "import scipy, scipy.signal\n",
    "import datetime\n",
    "%matplotlib inline"
   ]
  },
  {
   "cell_type": "code",
   "execution_count": null,
   "metadata": {
    "collapsed": true
   },
   "outputs": [],
   "source": [
    "ssa = []\n",
    "tft = []\n",
    "\n",
    "ssa.append(np.loadtxt(\"./logs/2017-08-10_12:04:00_3d-2channel-finetuned-acc_0-of-2.log\", delimiter=\",\"))\n",
    "ssa.append(np.loadtxt(\"./logs/2017-08-10_12:05:00_3d-2channel-finetuned-acc_1-of-2.log\", delimiter=\",\"))\n",
    "ssa.append(np.loadtxt(\"./logs/2017-08-10_12:06:00_3d-2channel-finetuned-acc_2-of-2.log\", delimiter=\",\"))\n",
    "ssa = np.transpose(np.array(ssa))\n",
    "\n",
    "tft.append(np.loadtxt(\"./logs/2017-08-10_12:04:00_3d-2channel-finetuned-roc_0-of-2.log\", delimiter=\",\"))\n",
    "tft.append(np.loadtxt(\"./logs/2017-08-10_12:05:00_3d-2channel-finetuned-roc_1-of-2.log\", delimiter=\",\"))\n",
    "tft.append(np.loadtxt(\"./logs/2017-08-10_12:06:00_3d-2channel-finetuned-roc_2-of-2.log\", delimiter=\",\"))"
   ]
  },
  {
   "cell_type": "code",
   "execution_count": null,
   "metadata": {
    "collapsed": true
   },
   "outputs": [],
   "source": [
    "k = 3\n",
    "\n",
    "dt = str(datetime.datetime.now().replace(second=0, microsecond=0).isoformat(\"_\"))\n",
    "\n",
    "plt.figure(figsize=(5, 5))\n",
    "\n",
    "tprs = []\n",
    "\n",
    "base_fpr = np.linspace(0, 1, 101)\n",
    "\n",
    "for i in np.arange(k):\n",
    "    fpr = tft[i][0]\n",
    "    tpr = tft[i][1]\n",
    "    plt.plot(fpr, tpr, alpha=0.15, color=\"darkblue\")\n",
    "    tpr = interp(base_fpr, fpr, tpr)\n",
    "    tpr[0] = 0.0\n",
    "    tprs.append(tpr)\n",
    "\n",
    "tprs = np.array(tprs)\n",
    "mean_tprs = tprs.mean(axis=0)\n",
    "std = tprs.std(axis=0)\n",
    "\n",
    "tprs_upper = np.minimum(mean_tprs + std, 1)\n",
    "tprs_lower = mean_tprs - std\n",
    "\n",
    "plt.plot(base_fpr, mean_tprs, color=\"darkblue\", label=\"Average ROC curve\")\n",
    "plt.plot(base_fpr, scipy.signal.savgol_filter(mean_tprs,51,3),\"--\", color=\"darkblue\", label=\"Smooth average ROC curve\")\n",
    "plt.fill_between(base_fpr, tprs_lower, tprs_upper, color='lightblue', alpha=0.3)\n",
    "\n",
    "plt.plot([0, 1], [0, 1],'r--', label=\"Random guess\")\n",
    "plt.xlim([-0.01, 1.01])\n",
    "plt.ylim([-0.01, 1.01])\n",
    "plt.ylabel('True Positive Rate')\n",
    "plt.xlabel('False Positive Rate')\n",
    "plt.title('20000 data ROC curve '+dt)\n",
    "plt.legend(loc=4)\n",
    "plt.axes().set_aspect('equal', 'datalim')\n",
    "#plt.savefig(\"./figures/rocCurves/\"+dt+\"-CNNh5-finetunedRealData.png\")\n",
    "\n",
    "#log = open(\"./logs/\"+dt+\"-CNNh5.log\",\"w+\")\n",
    "strOut = str(\"Specificity: \"+str(ssa[0])+\"\\nAvg: \"+str(np.mean(ssa[0]))+\"\\nSensitivity: \"+str(ssa[1])+\"\\nAvg: \"+str(np.mean(ssa[1]))+\"\\nROC AUC: \"+str(ssa[2])+\"\\nAvg: \"+str(np.mean(ssa[2])))\n",
    "#log.write(strOut)\n",
    "#log.close()\n",
    "print(strOut)"
   ]
  },
  {
   "cell_type": "code",
   "execution_count": null,
   "metadata": {
    "collapsed": true
   },
   "outputs": [],
   "source": [
    "ssa = []\n",
    "tft = []\n",
    "\n",
    "ssa.append(np.loadtxt(\"./logs/2017-08-29_17:53:00_3d-2channel-fakedata-acc_all.log\", delimiter=\",\"))\n",
    "ssa = np.transpose(np.array(ssa))\n",
    "\n",
    "tft.append(np.loadtxt(\"./logs/2017-08-29_17:53:00_3d-2channel-fakedata-roc_all.log\", delimiter=\",\"))"
   ]
  },
  {
   "cell_type": "code",
   "execution_count": null,
   "metadata": {
    "collapsed": true
   },
   "outputs": [],
   "source": [
    "dt = str(datetime.datetime.now().replace(second=0, microsecond=0).isoformat(\"_\"))\n",
    "\n",
    "plt.figure(figsize=(5, 5))\n",
    "\n",
    "base_fpr = np.linspace(0, 1, 101)\n",
    "\n",
    "tft[0][1][0] = 0\n",
    "plt.plot(tft[0][0], tft[0][1], label=\"ROC of ill/healthy\")\n",
    "\n",
    "plt.plot([0, 1], [0, 1],'r--', label=\"Random guess\")\n",
    "plt.xlim([-0.01, 1.01])\n",
    "plt.ylim([-0.01, 1.01])\n",
    "plt.ylabel('True Positive Rate')\n",
    "plt.xlabel('False Positive Rate')\n",
    "plt.title('ROC between simulated healthy and all ill cubes\\n'+dt)\n",
    "plt.legend(loc=4)\n",
    "plt.axes().set_aspect('equal', 'datalim')\n",
    "plt.savefig(\"./figures/rocCurves/\"+dt+\"-CNN-all.png\")\n",
    "\n",
    "log = open(\"./logs/\"+dt+\"-CNN-all.log\",\"w+\")\n",
    "strOut = str(\"Normal: \"+str(ssa[0])+\"\\nIschaemic: \"+str(ssa[1])+\"\\nInfarcted: \"+str(ssa[2])+\"\\nMixed: \"+str(ssa[3])\\\n",
    "             +\"\\nArtefact: \"+str(ssa[4])+\"\\nOverall accuracy: \"+str(ssa[5])+\"\\nROC AUC: \"+str(ssa[6]))\n",
    "log.write(strOut)\n",
    "log.close()\n",
    "print(strOut)"
   ]
  }
 ],
 "metadata": {
  "kernelspec": {
   "display_name": "Python 3",
   "language": "python",
   "name": "python3"
  },
  "language_info": {
   "codemirror_mode": {
    "name": "ipython",
    "version": 2
   },
   "file_extension": ".py",
   "mimetype": "text/x-python",
   "name": "python",
   "nbconvert_exporter": "python",
   "pygments_lexer": "ipython2",
   "version": "2.7.13"
  }
 },
 "nbformat": 4,
 "nbformat_minor": 2
}
