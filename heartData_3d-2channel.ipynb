{
 "cells": [
  {
   "cell_type": "code",
   "execution_count": 2,
   "metadata": {},
   "outputs": [
    {
     "name": "stdout",
     "output_type": "stream",
     "text": [
      "hdf5 is not supported on this machine (please install/reinstall h5py for optimal experience)\n"
     ]
    }
   ],
   "source": [
    "from __future__ import print_function\n",
    "import numpy as np\n",
    "import dicom\n",
    "import matplotlib.pyplot as plt\n",
    "import os, glob\n",
    "import tensorflow as tf\n",
    "import tflearn\n",
    "import sklearn\n",
    "from numpy import interp\n",
    "from sklearn.metrics import roc_curve, roc_auc_score\n",
    "import scipy\n",
    "import datetime\n",
    "%matplotlib inline"
   ]
  },
  {
   "cell_type": "markdown",
   "metadata": {},
   "source": [
    "# Import and preprocess data"
   ]
  },
  {
   "cell_type": "code",
   "execution_count": 1,
   "metadata": {
    "collapsed": true
   },
   "outputs": [],
   "source": [
    "def importHeartData(calmFile, stressFile, resize):\n",
    "    \"\"\"\n",
    "    Import heart data and extract the pixel array.\n",
    "    Slice halfway along ind axis.\n",
    "    Concatenate and return stress file and calm file.\n",
    "    If resize == 1, interpolate data to fit (34,34) arr.\n",
    "    \"\"\"\n",
    "    calmTmp = dicom.read_file(calmFile).pixel_array\n",
    "    stressTmp = dicom.read_file(stressFile).pixel_array\n",
    "    \n",
    "    calmTmp = cropHeart(calmTmp)\n",
    "    stressTmp = cropHeart(stressTmp)\n",
    "          \n",
    "    # Pad the 3d arrays with zeros so that they are all the same size\n",
    "    zeroArr0 = np.zeros((34,34,34))\n",
    "    zeroArr1 = np.zeros((34,34,34))\n",
    "    \n",
    "    if resize == 1:      \n",
    "        # Resize the 2D slices\n",
    "        calmRatio = 34.0/np.amax(calmTmp.shape)\n",
    "        stressRatio = 34.0/np.amax(stressTmp.shape)\n",
    "\n",
    "        calm3d = scipy.ndimage.interpolation.zoom(calmTmp, (calmRatio))\n",
    "        stress3d = scipy.ndimage.interpolation.zoom(stressTmp, (stressRatio))\n",
    "\n",
    "        if calm3d.shape[0] != 34:\n",
    "            startInd = (34 - calm3d.shape[0])/2\n",
    "            zeroArr0[startInd:calm3d.shape[0]+startInd,:calm3d.shape[1],:calm3d.shape[2]] = calm3d\n",
    "        if calm3d.shape[1] != 34:\n",
    "            startInd = (34 - calm3d.shape[1])/2\n",
    "            zeroArr0[:calm3d.shape[0],startInd:calm3d.shape[1]+startInd,:calm3d.shape[2]] = calm3d\n",
    "        if calm3d.shape[2] != 34:\n",
    "            startInd = (34 - calm3d.shape[2])/2\n",
    "            zeroArr0[:calm3d.shape[0],:calm3d.shape[1],startInd:calm3d.shape[2]+startInd] = calm3d\n",
    "\n",
    "\n",
    "        if stress3d.shape[0] != 34:\n",
    "            startInd = (34 - stress3d.shape[0])/2\n",
    "            zeroArr1[startInd:stress3d.shape[0]+startInd,:stress3d.shape[1],:stress3d.shape[2]] = stress3d\n",
    "        if stress3d.shape[1] != 34:\n",
    "            startInd = (34 - stress3d.shape[1])/2\n",
    "            zeroArr1[:stress3d.shape[0],startInd:stress3d.shape[1]+startInd,:stress3d.shape[2]] = stress3d\n",
    "        if stress3d.shape[2] != 34:\n",
    "            startInd = (34 - stress3d.shape[2])/2\n",
    "            zeroArr1[:stress3d.shape[0],:stress3d.shape[1],startInd:stress3d.shape[2]+startInd] = stress3d\n",
    "    \n",
    "    else:\n",
    "        zeroArr0[:calm3d.shape[0],:calm3d.shape[1],:calm3d.shape[2]] = calm3d\n",
    "        zeroArr1[:stress3d.shape[0],:stress3d.shape[1],stress3d.shape[2]] = stress3d\n",
    "    \n",
    "    for i in np.arange(zeroArr0.shape[0]):\n",
    "        zeroArr0[i] = sklearn.preprocessing.normalize(zeroArr0[i])\n",
    "        zeroArr1[i] = sklearn.preprocessing.normalize(zeroArr1[i])\n",
    "\n",
    "    catOut = [zeroArr0, zeroArr1]\n",
    "    return catOut\n",
    "\n",
    "def importDir(parentDir):\n",
    "    \"\"\"\n",
    "    Scan though directories in parent directory; look for dirs labelled \n",
    "    STRESS* or REST* in the imediate subdirs and import any dcm files in them.\n",
    "    Return a dataFile of the concatenated stress and calm *.dcm files.\n",
    "    \"\"\"\n",
    "    tmplst = []\n",
    "    for dirs in os.listdir(parentDir):\n",
    "        cwdStress = glob.glob(parentDir+\"/\"+dirs+\"/STRESS*/*.dcm\")\n",
    "        cwdCalm = glob.glob(parentDir+\"/\"+dirs+\"/REST*/*.dcm\")\n",
    "        # Get slices halfway along x axis:\n",
    "        xAx = importHeartData(cwdCalm[0], cwdStress[0], 1) # zoom = 1\n",
    "        tmplst.append(xAx)\n",
    "        \n",
    "    dataFile = np.array(tmplst)\n",
    "    #print(dataFile.shape)\n",
    "    \n",
    "    return dataFile\n",
    "\n",
    "def cropHeart(inp):\n",
    "    \"\"\"\n",
    "    Crop the heart so that all the padding is done away with.\n",
    "    Output cropped heart.\n",
    "    \"\"\"\n",
    "    # argwhere will give you the coordinates of every point above smallest\n",
    "    true_points = np.argwhere(inp)\n",
    "    # take the smallest points and use them as the top left of your crop\n",
    "    top_left = true_points.min(axis=0)\n",
    "    # take the largest points and use them as the bottom right of your crop\n",
    "    bottom_right = true_points.max(axis=0)\n",
    "    out = inp[top_left[0]:bottom_right[0]+1,  # plus 1 because slice isn't\n",
    "          top_left[1]:bottom_right[1]+1,   # inclusive\n",
    "          top_left[2]:bottom_right[2]+1]  \n",
    "    return out\n",
    "\n",
    "def expandData(arr):\n",
    "    \"\"\"\n",
    "    Artificially expand (by factor of 512) 3D data by flipping in x, y, z,\n",
    "    and rotating 90,180,270 degrees along each unique axis.\n",
    "    \"\"\"\n",
    "    arrx = arr[:,::-1]\n",
    "    arry = arr[:,:,::-1]\n",
    "    arrz = arr[:,:,:,::-1]\n",
    "    arrxy = arr[:,::-1,::-1]\n",
    "    arrxz = arr[:,::-1,:,::-1]\n",
    "    arryz = arr[:,:,::-1,::-1]\n",
    "    arrxyz = arr[:,::-1,::-1,::-1]\n",
    "    rotxArr = np.concatenate((arr,arrx,arry,arrxy,arrxz,arryz,arrxyz))\n",
    "    \n",
    "    rotxArr90 = scipy.ndimage.interpolation.rotate(rotxArr,90,axes=(1,2))\n",
    "    rotxArr180 = scipy.ndimage.interpolation.rotate(rotxArr,180,axes=(1,2))\n",
    "    rotxArr270 = scipy.ndimage.interpolation.rotate(rotxArr,270,axes=(1,2))\n",
    "    rotyArr = np.concatenate((rotxArr,rotxArr90,rotxArr180,rotxArr270))\n",
    "    \n",
    "    #rotyArr90 = scipy.ndimage.interpolation.rotate(rotyArr,90,axes=(2,3))\n",
    "    #rotyArr180 = scipy.ndimage.interpolation.rotate(rotyArr,180,axes=(2,3))\n",
    "    #rotyArr270 = scipy.ndimage.interpolation.rotate(rotyArr,270,axes=(2,3))    \n",
    "    #rotzArr = np.concatenate((rotyArr,rotyArr90,rotyArr180,rotyArr270))\n",
    "    \n",
    "    #rotzArr90 = scipy.ndimage.interpolation.rotate(rotzArr,90,axes=(1,3))\n",
    "    #rotzArr180 = scipy.ndimage.interpolation.rotate(rotzArr,180,axes=(1,3))\n",
    "    #rotzArr270 = scipy.ndimage.interpolation.rotate(rotzArr,270,axes=(1,3))    \n",
    "    #expArr = rotzArr = np.concatenate((rotzArr,rotzArr90,rotzArr180,rotzArr270))\n",
    "    expArr = rotyArr\n",
    "    mul = expArr.shape[0]/arr.shape[0]\n",
    "    \n",
    "    return expArr, mul "
   ]
  },
  {
   "cell_type": "code",
   "execution_count": 3,
   "metadata": {
    "scrolled": false
   },
   "outputs": [
    {
     "name": "stderr",
     "output_type": "stream",
     "text": [
      "/usr/local/lib/python2.7/dist-packages/scipy/ndimage/interpolation.py:600: UserWarning: From scipy 0.13.0, the output shape of zoom() is calculated with round() instead of int() - for these inputs the size of the returned array has changed.\n",
      "  \"the returned array has changed.\", UserWarning)\n"
     ]
    },
    {
     "name": "stdout",
     "output_type": "stream",
     "text": [
      "k = (532, 34, 34, 34, 2)\n"
     ]
    }
   ],
   "source": [
    "# Do data import\n",
    "abDir = \"./data/rlst\"\n",
    "abDat = importDir(abDir)\n",
    "abDat = np.moveaxis(abDat,1,-1)\n",
    "\n",
    "normDir = \"./data/nlst\"\n",
    "normDat = importDir(normDir)[:abDat.shape[0]] # Normal and abnormal data same number of ppts\n",
    "normDat = np.moveaxis(normDat,1,-1)\n",
    "\n",
    "inData = np.concatenate([normDat, abDat]) \n",
    "\n",
    "# Do labelling\n",
    "normLab = np.zeros(normDat.shape[0])\n",
    "abLab = np.ones(abDat.shape[0])\n",
    "labels = np.concatenate([normLab, abLab])\n",
    "\n",
    "# Mutual shuffle\n",
    "shufData, shufLab = sklearn.utils.shuffle(inData, labels, random_state=1)\n",
    "shufData = np.reshape(shufData,(-1,34,34,34,2))\n",
    "    \n",
    "# k fold the data\n",
    "k = 3\n",
    "kfoldData = np.array_split(shufData, k)\n",
    "kfoldLabels = np.array_split(shufLab, k)\n",
    "kfoldLabelsOH = []\n",
    "\n",
    "# Expand each k-fold\n",
    "for i in np.arange(k):\n",
    "    kfoldData[i], mul = expandData(kfoldData[i])\n",
    "    kfoldLabels[i] = np.tile(kfoldLabels[i],mul)\n",
    "    \n",
    "    kfoldData[i], kfoldLabels[i] = sklearn.utils.shuffle(kfoldData[i], kfoldLabels[i], random_state=1)\n",
    "    kfoldLabelsOH.append(np.eye(2)[kfoldLabels[i].astype(int)]) # One hot encode\n",
    "    \n",
    "    print(kfoldData[i].shape[0], kfoldLabels[i].shape)"
   ]
  },
  {
   "cell_type": "markdown",
   "metadata": {},
   "source": [
    "# Visualise input data"
   ]
  },
  {
   "cell_type": "code",
   "execution_count": 8,
   "metadata": {
    "scrolled": true
   },
   "outputs": [
    {
     "data": {
      "text/plain": [
       "<matplotlib.image.AxesImage at 0x7fbc44a64d90>"
      ]
     },
     "execution_count": 8,
     "metadata": {},
     "output_type": "execute_result"
    },
    {
     "data": {
      "image/png": "[encoded data removed]",
      "text/plain": [
       "<matplotlib.figure.Figure at 0x7fbc8cec8e10>"
      ]
     },
     "metadata": {},
     "output_type": "display_data"
    }
   ],
   "source": [
    "plt.imshow(kfoldData[1][20,20,:,:,1])"
   ]
  },
  {
   "cell_type": "code",
   "execution_count": 9,
   "metadata": {
    "scrolled": false
   },
   "outputs": [
    {
     "data": {
      "text/plain": [
       "<matplotlib.image.AxesImage at 0x7fbc44968fd0>"
      ]
     },
     "execution_count": 9,
     "metadata": {},
     "output_type": "execute_result"
    },
    {
     "data": {
      "image/png": "[encoded data removed]",
      "text/plain": [
       "<matplotlib.figure.Figure at 0x7fbc449edd10>"
      ]
     },
     "metadata": {},
     "output_type": "display_data"
    }
   ],
   "source": [
    "plt.imshow(kfoldData[1][20,20,:,:,0])"
   ]
  },
  {
   "cell_type": "markdown",
   "metadata": {},
   "source": [
    "# Neural net (two-channel)"
   ]
  },
  {
   "cell_type": "code",
   "execution_count": 10,
   "metadata": {
    "collapsed": true
   },
   "outputs": [],
   "source": [
    "spec = []\n",
    "sens = []\n",
    "roc = []"
   ]
  },
  {
   "cell_type": "code",
   "execution_count": null,
   "metadata": {
    "scrolled": false
   },
   "outputs": [
    {
     "name": "stdout",
     "output_type": "stream",
     "text": [
      "Training Step: 2  | total loss: \u001b[1m\u001b[32m0.61841\u001b[0m\u001b[0m | time: 17.423s\n",
      "\u001b[2K\r",
      "| Adam | epoch: 001 | loss: 0.61841 - acc: 0.4500 -- iter: 0020/1064\n"
     ]
    }
   ],
   "source": [
    "for i in np.arange(0,k,1):\n",
    "    sess = tf.InteractiveSession()\n",
    "    tf.reset_default_graph()\n",
    "    tflearn.initializations.normal()\n",
    "\n",
    "    # Input layer:\n",
    "    net = tflearn.layers.core.input_data(shape=[None,34,34,34,2])\n",
    "    \n",
    "    # First layer:\n",
    "    net = tflearn.layers.conv.conv_3d(net, 16, [5,5,5],  activation=\"leaky_relu\")\n",
    "    net = tflearn.layers.conv.max_pool_3d(net, [2,2,2], strides=[2,2,2])\n",
    "    \n",
    "    # Second layer:\n",
    "    net = tflearn.layers.conv.conv_3d(net, 32, [5,5,5],  activation=\"leaky_relu\")\n",
    "    net = tflearn.layers.conv.max_pool_3d(net, [2,2,2], strides=[2,2,2])\n",
    "\n",
    "    # Fully connected layers\n",
    "    net = tflearn.layers.core.fully_connected(net, 1024, regularizer=\"L2\", weight_decay=0.01, activation=\"leaky_relu\")\n",
    "    net = tflearn.layers.core.dropout(net, keep_prob=0.5)\n",
    "    \n",
    "    net = tflearn.layers.core.fully_connected(net, 1024, regularizer=\"L2\", weight_decay=0.01, activation=\"leaky_relu\")\n",
    "    net = tflearn.layers.core.dropout(net, keep_prob=0.5)\n",
    "\n",
    "    # Output layer:\n",
    "    net = tflearn.layers.core.fully_connected(net, 2, activation=\"softmax\")\n",
    "\n",
    "    net = tflearn.layers.estimator.regression(net, optimizer='adam', learning_rate=0.0001, loss='categorical_crossentropy')\n",
    "    model = tflearn.DNN(net, tensorboard_verbose=0)\n",
    "    \n",
    "    # Train the model, leaving out the kfold not being used\n",
    "    dummyData = np.reshape(np.concatenate(kfoldData[:i] + kfoldData[i+1:], axis=0), [-1,34,34,34,2])\n",
    "    dummyLabels = np.reshape(np.concatenate(kfoldLabelsOH[:i] + kfoldLabelsOH[i+1:], axis=0), [-1, 2])\n",
    "    model.fit(dummyData, dummyLabels, batch_size=10, n_epoch=100, show_metric=True)\n",
    "    \n",
    "    # Get sensitivity and specificity\n",
    "    illTest = []\n",
    "    healthTest = []\n",
    "    for index, item in enumerate(kfoldLabels[i]):\n",
    "        if item == 1:\n",
    "            illTest.append(kfoldData[i][index])\n",
    "        if item == 0:\n",
    "            healthTest.append(kfoldData[i][index])\n",
    "\n",
    "    healthLabel = np.tile([1,0], (len(healthTest), 1))\n",
    "    illLabel = np.tile([0,1], (len(illTest), 1))\n",
    "    sens.append(model.evaluate(np.array(healthTest), healthLabel))\n",
    "    spec.append(model.evaluate(np.array(illTest), illLabel))\n",
    "\n",
    "    # Get roc curve data\n",
    "    predicted = np.array(model.predict(np.array(kfoldData[i])))\n",
    "    fpr, tpr, th = roc_curve(kfoldLabels[i], predicted[:,1])\n",
    "    auc = roc_auc_score(kfoldLabels[i], predicted[:,1])\n",
    "    roc.append([fpr, tpr, auc])"
   ]
  },
  {
   "cell_type": "markdown",
   "metadata": {},
   "source": [
    "# Postprocessing (specificity, sensitivity, roc curves)"
   ]
  },
  {
   "cell_type": "code",
   "execution_count": 15,
   "metadata": {
    "scrolled": false
   },
   "outputs": [
    {
     "name": "stdout",
     "output_type": "stream",
     "text": [
      "Specificity: [[0.35096153387656581], [0.40909090909090912], [0.5]] \n",
      "Avg: 0.420017480989 \n",
      "Sensitivity: [[0.8303571343421936], [0.734375], [0.0]] \n",
      "Avg: 0.521577378114 \n",
      "ROC AUC: [0.60671359890109888, 0.57972301136363635, 0.48189174107142857] \n",
      "Avg: 0.556109450445\n"
     ]
    }
   ],
   "source": [
    "aucs = []\n",
    "for i in np.arange(k):\n",
    "    aucs.append(roc[i][2])\n",
    "    \n",
    "print(\"Specificity:\", spec, \"\\nAvg:\", np.mean(spec), \"\\nSensitivity:\", sens, \"\\nAvg:\", np.mean(sens), \"\\nROC AUC:\", aucs, \"\\nAvg:\", np.mean(aucs))"
   ]
  },
  {
   "cell_type": "code",
   "execution_count": 17,
   "metadata": {
    "scrolled": true
   },
   "outputs": [
    {
     "data": {
      "image/png": "[encoded data removed]",
      "text/plain": [
       "<matplotlib.figure.Figure at 0x7f99c37cb090>"
      ]
     },
     "metadata": {},
     "output_type": "display_data"
    }
   ],
   "source": [
    "dt = str(datetime.datetime.now().replace(second=0, microsecond=0).isoformat(\"_\"))\n",
    "\n",
    "plt.figure(figsize=(5, 5))\n",
    "\n",
    "tprs = []\n",
    "base_fpr = np.linspace(0, 1, 101)\n",
    "\n",
    "for i in np.arange(k):\n",
    "    fpr = roc[i][0]\n",
    "    tpr = roc[i][1]\n",
    "    plt.plot(fpr, tpr, alpha=0.15, color=\"darkblue\")\n",
    "    tpr = interp(base_fpr, fpr, tpr)\n",
    "    tpr[0] = 0.0\n",
    "    tprs.append(tpr)\n",
    "    \n",
    "tprs = np.array(tprs)\n",
    "mean_tprs = tprs.mean(axis=0)\n",
    "std = tprs.std(axis=0)\n",
    "\n",
    "tprs_upper = np.minimum(mean_tprs + std, 1)\n",
    "tprs_lower = mean_tprs - std\n",
    "\n",
    "plt.plot(base_fpr, mean_tprs, color=\"darkblue\", label=\"Average ROC curve\")\n",
    "plt.fill_between(base_fpr, tprs_lower, tprs_upper, color='lightblue', alpha=0.3)\n",
    "\n",
    "plt.plot([0, 1], [0, 1],'r--', label=\"Random guess\")\n",
    "plt.xlim([-0.01, 1.01])\n",
    "plt.ylim([-0.01, 1.01])\n",
    "plt.ylabel('True Positive Rate')\n",
    "plt.xlabel('False Positive Rate')\n",
    "plt.title('ROC curve '+dt)\n",
    "plt.legend(loc=4)\n",
    "plt.axes().set_aspect('equal', 'datalim')\n",
    "plt.savefig(\"./figures/rocCurves/\"+dt+\"-2dsliceCNN.png\")"
   ]
  },
  {
   "cell_type": "code",
   "execution_count": null,
   "metadata": {
    "collapsed": true
   },
   "outputs": [],
   "source": []
  }
 ],
 "metadata": {
  "kernelspec": {
   "display_name": "Python 3",
   "language": "python",
   "name": "python3"
  },
  "language_info": {
   "codemirror_mode": {
    "name": "ipython",
    "version": 2
   },
   "file_extension": ".py",
   "mimetype": "text/x-python",
   "name": "python",
   "nbconvert_exporter": "python",
   "pygments_lexer": "ipython2",
   "version": "2.7.13"
  }
 },
 "nbformat": 4,
 "nbformat_minor": 2
}
