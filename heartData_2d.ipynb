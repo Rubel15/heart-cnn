{
 "cells": [
  {
   "cell_type": "code",
   "execution_count": 134,
   "metadata": {},
   "outputs": [],
   "source": [
    "from __future__ import print_function\n",
    "import numpy as np\n",
    "import dicom\n",
    "import matplotlib.pyplot as plt\n",
    "import os, glob\n",
    "import tensorflow as tf\n",
    "import tflearn\n",
    "import sklearn\n",
    "from numpy import interp\n",
    "from sklearn.metrics import roc_curve, roc_auc_score\n",
    "import scipy\n",
    "import datetime\n",
    "%matplotlib inline"
   ]
  },
  {
   "cell_type": "markdown",
   "metadata": {},
   "source": [
    "# Import and preprocess data"
   ]
  },
  {
   "cell_type": "code",
   "execution_count": 169,
   "metadata": {},
   "outputs": [],
   "source": [
    "def importHeartData(calmFile, stressFile, ind, resize):\n",
    "    \"\"\"\n",
    "    Import heart data and extract the pixel array.\n",
    "    Slice halfway along ind axis.\n",
    "    Concatenate and return stress file and calm file.\n",
    "    If resize == 1, interpolate data to fit (34,34) arr.\n",
    "    \"\"\"\n",
    "    calmTmp = dicom.read_file(calmFile).pixel_array\n",
    "    stressTmp = dicom.read_file(stressFile).pixel_array\n",
    "    \n",
    "    calmTmp = cropHeart(calmTmp)\n",
    "    stressTmp = cropHeart(stressTmp)\n",
    "    \n",
    "    # Slice halfway along ind axis\n",
    "    if ind==0:\n",
    "        calm2d = calmTmp[calmTmp.shape[ind]/2]\n",
    "        stress2d = stressTmp[stressTmp.shape[ind]/2]\n",
    "    if ind==1:\n",
    "        calm2d = calmTmp[:,calmTmp.shape[ind]/2]\n",
    "        stress2d = stressTmp[:,stressTmp.shape[ind]/2]\n",
    "    if ind==2:\n",
    "        calm2d = calmTmp[:,:,calmTmp.shape[ind]/2]\n",
    "        stress2d = stressTmp[:,:,stressTmp.shape[ind]/2]\n",
    "\n",
    "           \n",
    "    # Pad the 2d slices with zeros so that they are all the same size\n",
    "    zeroArr0 = np.zeros((34,34))\n",
    "    zeroArr1 = np.zeros((34,34))\n",
    "    \n",
    "    if resize == 1:      \n",
    "        # Resize the 2D slices\n",
    "        calmRatio = 34.0/np.amax(calm2d.shape)\n",
    "        stressRatio = 34.0/np.amax(stress2d.shape)\n",
    "\n",
    "        calm2d = scipy.ndimage.interpolation.zoom(calm2d, (calmRatio))\n",
    "        stress2d = scipy.ndimage.interpolation.zoom(stress2d, (stressRatio))\n",
    "\n",
    "        if calm2d.shape[0] != 34:\n",
    "            startInd = (34 - calm2d.shape[0])/2\n",
    "            zeroArr0[startInd:calm2d.shape[0]+startInd,:calm2d.shape[1]] = calm2d\n",
    "        if calm2d.shape[1] != 34:\n",
    "            startInd = (34 - calm2d.shape[1])/2\n",
    "            zeroArr0[:calm2d.shape[0],startInd:calm2d.shape[1]+startInd] = calm2d\n",
    "\n",
    "        if stress2d.shape[0] != 34:\n",
    "            startInd = (34 - stress2d.shape[0])/2\n",
    "            zeroArr1[startInd:stress2d.shape[0]+startInd,:stress2d.shape[1]] = stress2d\n",
    "        if stress2d.shape[1] != 34:\n",
    "            startInd = (34 - stress2d.shape[1])/2\n",
    "            zeroArr1[:stress2d.shape[0],startInd:stress2d.shape[1]+startInd] = stress2d\n",
    "    \n",
    "    else:\n",
    "        zeroArr0[:calm2d.shape[0],:calm2d.shape[1]] = calm2d\n",
    "        zeroArr1[:stress2d.shape[0],:stress2d.shape[1]] = stress2d\n",
    "      \n",
    "    zeroArr0 = sklearn.preprocessing.normalize(zeroArr0)\n",
    "    zeroArr1 = sklearn.preprocessing.normalize(zeroArr1)\n",
    "\n",
    "    catOut = [zeroArr0, zeroArr1]\n",
    "    return catOut\n",
    "\n",
    "def importDir(parentDir):\n",
    "    \"\"\"\n",
    "    Scan though directories in parent directory; look for dirs labelled \n",
    "    STRESS* or REST* in the imediate subdirs and import any dcm files in them.\n",
    "    Return a dataFile of the concatenated stress and calm *.dcm files.\n",
    "    \"\"\"\n",
    "    tmplst = []\n",
    "    for dirs in os.listdir(parentDir):\n",
    "        cwdStress = glob.glob(parentDir+\"/\"+dirs+\"/STRESS*/*.dcm\")\n",
    "        cwdCalm = glob.glob(parentDir+\"/\"+dirs+\"/REST*/*.dcm\")\n",
    "        # Get slices halfway along x axis:\n",
    "        xAx = importHeartData(cwdCalm[0], cwdStress[0], 0, 1) # zAx, and zoom\n",
    "        tmplst.append(xAx)\n",
    "        \n",
    "    dataFile = np.array(tmplst)\n",
    "    #print(dataFile.shape)\n",
    "    \n",
    "    return dataFile\n",
    "\n",
    "def cropHeart(inp):\n",
    "    \"\"\"\n",
    "    Crop the heart so that all the padding is done away with.\n",
    "    Output cropped heart.\n",
    "    \"\"\"\n",
    "    # argwhere will give you the coordinates of every point above smallest\n",
    "    true_points = np.argwhere(inp)\n",
    "    # take the smallest points and use them as the top left of your crop\n",
    "    top_left = true_points.min(axis=0)\n",
    "    # take the largest points and use them as the bottom right of your crop\n",
    "    bottom_right = true_points.max(axis=0)\n",
    "    out = inp[top_left[0]:bottom_right[0]+1,  # plus 1 because slice isn't\n",
    "          top_left[1]:bottom_right[1]+1,   # inclusive\n",
    "          top_left[2]:bottom_right[2]+1]  \n",
    "    return out"
   ]
  },
  {
   "cell_type": "code",
   "execution_count": 170,
   "metadata": {
    "scrolled": true
   },
   "outputs": [
    {
     "name": "stdout",
     "output_type": "stream",
     "text": [
      "(20, 2, 34, 34, 1)\n"
     ]
    }
   ],
   "source": [
    "# Do data import\n",
    "normDir = \"./data/nlst\"\n",
    "normDat = importDir(normDir)\n",
    "abDir = \"./data/rlst\"\n",
    "abDat = importDir(abDir)\n",
    "inData = np.concatenate([normDat[:abDat.shape[0]], abDat]) # Normal and abnormal data same number of ppts\n",
    "\n",
    "# Do labelling\n",
    "normLab = np.zeros(normDat.shape[0])[:abDat.shape[0]]\n",
    "abLab = np.ones(abDat.shape[0])\n",
    "labels = np.concatenate([normLab, abLab])\n",
    "    \n",
    "# Mutual shuffle\n",
    "shufData, shufLab = sklearn.utils.shuffle(inData, labels, random_state=1)\n",
    "shufData = np.reshape(shufData,(-1,2,34,34,1))\n",
    "shufLabOH = np.eye(2)[shufLab.astype(int)] # One hot encode\n",
    "\n",
    "# k fold the data\n",
    "k = 3\n",
    "kfoldData = np.array_split(shufData, k)\n",
    "kfoldLabelsOH = np.array_split(shufLabOH, k)\n",
    "kfoldLabels = np.array_split(shufLab, k)\n",
    "print(kfoldData[0].shape)"
   ]
  },
  {
   "cell_type": "code",
   "execution_count": 171,
   "metadata": {},
   "outputs": [
    {
     "data": {
      "text/plain": [
       "array([[ 0.        ,  0.        ,  0.        ,  0.        ,  0.        ,\n",
       "         0.        ,  0.        ,  0.        ,  0.        ,  0.        ,\n",
       "         0.        ,  0.        ,  0.        ,  0.        ,  0.        ,\n",
       "         0.        ,  0.        ,  0.        ,  0.        ,  0.        ,\n",
       "         0.        ,  0.        ,  0.        ,  0.        ,  0.        ,\n",
       "         0.        ,  0.        ,  0.        ,  0.        ,  0.        ,\n",
       "         0.        ,  0.        ,  0.        ,  0.        ],\n",
       "       [ 0.        ,  0.        ,  0.        ,  0.        ,  0.        ,\n",
       "         0.        ,  0.        ,  0.        ,  0.        ,  0.        ,\n",
       "         0.        ,  0.        ,  0.        ,  0.        ,  0.        ,\n",
       "         0.        ,  0.        ,  0.        ,  0.        ,  0.        ,\n",
       "         0.        ,  0.        ,  0.        ,  0.        ,  0.        ,\n",
       "         0.        ,  0.        ,  0.        ,  0.        ,  0.        ,\n",
       "         0.        ,  0.        ,  0.        ,  0.        ],\n",
       "       [ 0.        ,  0.        ,  0.        ,  0.        ,  0.        ,\n",
       "         0.        ,  0.        ,  0.        ,  0.        ,  0.        ,\n",
       "         0.        ,  0.        ,  0.        ,  0.        ,  0.        ,\n",
       "         0.        ,  0.        ,  0.        ,  0.        ,  0.        ,\n",
       "         0.        ,  0.        ,  0.        ,  0.        ,  0.        ,\n",
       "         0.        ,  0.        ,  0.        ,  0.        ,  0.        ,\n",
       "         0.        ,  0.        ,  0.        ,  0.        ],\n",
       "       [ 0.        ,  0.        ,  0.        ,  0.        ,  0.        ,\n",
       "         0.        ,  0.00398327,  0.00796655,  0.        ,  0.        ,\n",
       "         0.15534767,  0.33459497,  0.34256152,  0.27882915,  0.26687932,\n",
       "         0.28281242,  0.29476224,  0.29476224,  0.28679569,  0.28281242,\n",
       "         0.27882915,  0.25094623,  0.18721385,  0.0756822 ,  0.        ,\n",
       "         0.        ,  0.00398327,  0.00398327,  0.        ,  0.        ,\n",
       "         0.        ,  0.        ,  0.        ,  0.        ],\n",
       "       [ 0.        ,  0.        ,  0.        ,  0.        ,  0.        ,\n",
       "         0.02216332,  0.07141514,  0.12805474,  0.14529288,  0.15514324,\n",
       "         0.22409579,  0.29551093,  0.30289871,  0.28566057,  0.28566057,\n",
       "         0.29551093,  0.29797352,  0.29058575,  0.27334761,  0.25118429,\n",
       "         0.22409579,  0.19700729,  0.16006842,  0.1108166 ,  0.07634032,\n",
       "         0.07141514,  0.05910219,  0.02462591,  0.00246259,  0.        ,\n",
       "         0.        ,  0.        ,  0.        ,  0.        ],\n",
       "       [ 0.        ,  0.        ,  0.        ,  0.        ,  0.00682164,\n",
       "         0.0395655 ,  0.09686726,  0.16099065,  0.20464914,  0.22647838,\n",
       "         0.24557896,  0.26467955,  0.2769585 ,  0.28650879,  0.29333043,\n",
       "         0.29742341,  0.29605909,  0.28378014,  0.26058657,  0.22647838,\n",
       "         0.18964153,  0.158262  ,  0.13233978,  0.11460352,  0.1036889 ,\n",
       "         0.09686726,  0.07503802,  0.03683684,  0.00955029,  0.        ,\n",
       "         0.        ,  0.        ,  0.        ,  0.        ],\n",
       "       [ 0.00099685,  0.        ,  0.        ,  0.00598111,  0.01993703,\n",
       "         0.04485831,  0.08074497,  0.12360958,  0.16747104,  0.2073451 ,\n",
       "         0.24123805,  0.26815304,  0.28609636,  0.29905543,  0.30703024,\n",
       "         0.3100208 ,  0.30703024,  0.29407117,  0.26914989,  0.23426009,\n",
       "         0.19338918,  0.15550882,  0.12261273,  0.10068199,  0.08572922,\n",
       "         0.07376701,  0.05881423,  0.03887721,  0.01894018,  0.00299055,\n",
       "         0.        ,  0.        ,  0.00099685,  0.        ],\n",
       "       [ 0.        ,  0.        ,  0.00159143,  0.01113999,  0.0238714 ,\n",
       "         0.03739853,  0.05808708,  0.09071133,  0.13765842,  0.19017551,\n",
       "         0.23871403,  0.27452113,  0.29441397,  0.30396253,  0.30953252,\n",
       "         0.31191966,  0.30873681,  0.29759682,  0.27690827,  0.24507973,\n",
       "         0.20608978,  0.16391696,  0.12572272,  0.0946899 ,  0.07081849,\n",
       "         0.05490423,  0.04455995,  0.03501139,  0.0238714 ,  0.01034427,\n",
       "         0.00238714,  0.        ,  0.        ,  0.        ],\n",
       "       [ 0.        ,  0.        ,  0.00463842,  0.01126472,  0.01656577,\n",
       "         0.02186682,  0.04439627,  0.08680464,  0.14114038,  0.197464  ,\n",
       "         0.24583605,  0.2789676 ,  0.29420811,  0.29818389,  0.29884652,\n",
       "         0.29950915,  0.29818389,  0.29222021,  0.27764234,  0.25312499,\n",
       "         0.21933082,  0.17957297,  0.13915248,  0.10337042,  0.07487729,\n",
       "         0.05433573,  0.03975785,  0.03048102,  0.02385471,  0.01855366,\n",
       "         0.00927683,  0.00132526,  0.        ,  0.        ],\n",
       "       [ 0.00236071,  0.00472143,  0.00767232,  0.00885268,  0.00944286,\n",
       "         0.01593482,  0.04603393,  0.09974019,  0.16052859,  0.2154152 ,\n",
       "         0.25790806,  0.28210538,  0.28682681,  0.28269556,  0.27915449,\n",
       "         0.27797413,  0.28033485,  0.28092503,  0.27561342,  0.26026878,\n",
       "         0.23430092,  0.1988902 ,  0.15934823,  0.1215768 ,  0.08852679,\n",
       "         0.06255893,  0.04249286,  0.02950893,  0.02419732,  0.02242679,\n",
       "         0.01770536,  0.00944286,  0.00354107,  0.00118036],\n",
       "       [ 0.01063427,  0.01119397,  0.01007457,  0.00559698,  0.00671638,\n",
       "         0.02238793,  0.06324591,  0.12369333,  0.18637954,  0.23787178,\n",
       "         0.27033429,  0.28208795,  0.27425218,  0.25970002,  0.25018515,\n",
       "         0.24850605,  0.25522243,  0.26417761,  0.26977459,  0.2658567 ,\n",
       "         0.25018515,  0.22164053,  0.18470044,  0.14496186,  0.10746208,\n",
       "         0.07499957,  0.05037285,  0.0347013 ,  0.02630582,  0.02406703,\n",
       "         0.02518642,  0.02350733,  0.01287306,  0.00559698],\n",
       "       [ 0.01877546,  0.01490992,  0.00773107,  0.00331332,  0.01159661,\n",
       "         0.03865535,  0.08945953,  0.15462141,  0.21646998,  0.26064753,\n",
       "         0.28107964,  0.27666189,  0.25457311,  0.22972324,  0.21481332,\n",
       "         0.21370888,  0.22475327,  0.24242429,  0.25843865,  0.26672194,\n",
       "         0.26230419,  0.24297651,  0.21150001,  0.17284465,  0.13198042,\n",
       "         0.09332507,  0.062953  ,  0.04307311,  0.0314765 ,  0.02761097,\n",
       "         0.0314765 ,  0.03368538,  0.02153655,  0.01104439],\n",
       "       [ 0.0233963 ,  0.01448342,  0.00278527,  0.00334233,  0.02283924,\n",
       "         0.06183308,  0.12088088,  0.18939861,  0.24733231,  0.2818697 ,\n",
       "         0.28576908,  0.26515806,  0.22839244,  0.19385505,  0.17547224,\n",
       "         0.17491519,  0.19162683,  0.21613724,  0.24176176,  0.26070162,\n",
       "         0.26794333,  0.25958751,  0.23674827,  0.20165382,  0.15987471,\n",
       "         0.11642444,  0.07965883,  0.05459136,  0.03899383,  0.03342328,\n",
       "         0.03676561,  0.03899383,  0.02673863,  0.01615459],\n",
       "       [ 0.02212443,  0.01248045,  0.00056729,  0.00737481,  0.03630676,\n",
       "         0.08679584,  0.15316914,  0.22294619,  0.27456986,  0.29669429,\n",
       "         0.28421384,  0.2467725 ,  0.19855258,  0.15714019,  0.13615034,\n",
       "         0.13728493,  0.15770748,  0.18720672,  0.21954243,  0.24733979,\n",
       "         0.26606046,  0.26946422,  0.25698377,  0.22918641,  0.18947589,\n",
       "         0.14239057,  0.09984359,  0.06807517,  0.04765262,  0.03914322,\n",
       "         0.0414124 ,  0.04311428,  0.03006653,  0.01928797],\n",
       "       [ 0.01676417,  0.0092492 ,  0.00173422,  0.01329572,  0.04971443,\n",
       "         0.10925613,  0.18151548,  0.2497283 ,  0.29481813,  0.3046454 ,\n",
       "         0.27689781,  0.22487108,  0.16764168,  0.12255185,  0.10058501,\n",
       "         0.10347538,  0.12659837,  0.15954863,  0.19481119,  0.22949568,\n",
       "         0.25782134,  0.27342936,  0.27285129,  0.25377482,  0.21735611,\n",
       "         0.16821976,  0.11966148,  0.08093047,  0.0549171 ,  0.04277753,\n",
       "         0.04393368,  0.04566791,  0.03121604,  0.01965454],\n",
       "       [ 0.01229602,  0.00644077,  0.00292762,  0.01815126,  0.06030904,\n",
       "         0.1258878 ,  0.20083496,  0.26699924,  0.30564387,  0.30564387,\n",
       "         0.26699924,  0.20493363,  0.14228249,  0.09485499,  0.07319058,\n",
       "         0.07728925,  0.10188129,  0.13525619,  0.17272977,  0.21195992,\n",
       "         0.24826245,  0.27461106,  0.28515051,  0.27402554,  0.24065063,\n",
       "         0.18912446,  0.13525619,  0.0901708 ,  0.05855247,  0.04391435,\n",
       "         0.04391435,  0.0450854 ,  0.03103281,  0.01990784],\n",
       "       [ 0.00884703,  0.00412861,  0.00294901,  0.02123287,  0.06605782,\n",
       "         0.13388505,  0.20996951,  0.27425792,  0.30787664,  0.30197862,\n",
       "         0.25597406,  0.18932644,  0.12385842,  0.07667426,  0.05603119,\n",
       "         0.0607496 ,  0.08552129,  0.1197298 ,  0.15806693,  0.20112248,\n",
       "         0.24358822,  0.27779673,  0.2960806 ,  0.29018258,  0.25774347,\n",
       "         0.20348168,  0.14391168,  0.09377852,  0.0583904 ,  0.04069634,\n",
       "         0.04010653,  0.04187594,  0.0294901 ,  0.01887366],\n",
       "       [ 0.00650202,  0.00295546,  0.00354655,  0.02187042,  0.06561125,\n",
       "         0.13417796,  0.20924668,  0.27131138,  0.30263927,  0.29436398,\n",
       "         0.24707659,  0.17910098,  0.11467191,  0.06856671,  0.04965176,\n",
       "         0.05556268,  0.08038856,  0.115263  ,  0.15604837,  0.20156248,\n",
       "         0.24766769,  0.28667978,  0.30736801,  0.30145709,  0.26658264,\n",
       "         0.20865559,  0.14540871,  0.09102822,  0.05319831,  0.03428335,\n",
       "         0.03310117,  0.03605663,  0.02600806,  0.01655059],\n",
       "       [ 0.00531052,  0.00236023,  0.00295029,  0.01947191,  0.06136601,\n",
       "         0.12627237,  0.19884948,  0.26021549,  0.29148855,  0.28499791,\n",
       "         0.24133364,  0.1776074 ,  0.11624139,  0.07316717,  0.05664555,\n",
       "         0.06372624,  0.08968878,  0.12568231,  0.16757641,  0.21419098,\n",
       "         0.26080554,  0.29797919,  0.31568092,  0.30505988,  0.26611607,\n",
       "         0.20416   ,  0.13807352,  0.08260809,  0.04425433,  0.02596254,\n",
       "         0.02537249,  0.02891283,  0.02183214,  0.01416139],\n",
       "       [ 0.00645987,  0.00293631,  0.00176178,  0.01644331,  0.05402801,\n",
       "         0.11334138,  0.18146366,  0.24136428,  0.27542542,  0.27483816,\n",
       "         0.23901524,  0.1838127 ,  0.12978469,  0.09161272,  0.07810572,\n",
       "         0.08691463,  0.11392864,  0.15033882,  0.19144709,  0.23607893,\n",
       "         0.27777447,  0.30772478,  0.31653369,  0.2983286 ,  0.2531095 ,\n",
       "         0.18909805,  0.12332482,  0.0692968 ,  0.03347388,  0.01761783,\n",
       "         0.01761783,  0.02172866,  0.01761783,  0.01233248],\n",
       "       [ 0.00817757,  0.00584112,  0.00642523,  0.01752336,  0.0478972 ,\n",
       "         0.09929907,  0.16179907,  0.22021028,  0.25700935,  0.26401869,\n",
       "         0.23948598,  0.19626168,  0.15186916,  0.1203271 ,  0.1103972 ,\n",
       "         0.12149533,  0.14836449,  0.18341121,  0.22079439,  0.25876168,\n",
       "         0.29088785,  0.30899533,  0.30607477,  0.2786215 ,  0.22838785,\n",
       "         0.16471963,  0.10221963,  0.05315421,  0.02278037,  0.00992991,\n",
       "         0.01109813,  0.01577103,  0.01343458,  0.00992991],\n",
       "       [ 0.00818488,  0.01110806,  0.0169544 ,  0.02397001,  0.04618613,\n",
       "         0.08944908,  0.14498935,  0.199945  ,  0.23911551,  0.25373137,\n",
       "         0.24145405,  0.21163769,  0.17772889,  0.15434351,  0.1490818 ,\n",
       "         0.16194376,  0.18708304,  0.21748403,  0.24730039,  0.27477821,\n",
       "         0.29407115,  0.29816359,  0.2829631 ,  0.24671576,  0.19468329,\n",
       "         0.13446593,  0.07834102,  0.03741661,  0.01344659,  0.00467708,\n",
       "         0.00701561,  0.01169269,  0.00935415,  0.00584634],\n",
       "       [ 0.00534003,  0.01186674,  0.02373348,  0.03560022,  0.05458701,\n",
       "         0.08662721,  0.13231416,  0.18452782,  0.22546807,  0.24682821,\n",
       "         0.2450482 ,  0.22724808,  0.20410794,  0.18808784,  0.18690117,\n",
       "         0.19995458,  0.22250139,  0.24623487,  0.26581499,  0.28064842,\n",
       "         0.28539511,  0.27530838,  0.24920155,  0.20766796,  0.15604764,\n",
       "         0.10205397,  0.05518034,  0.02373348,  0.00652671,  0.00178001,\n",
       "         0.00415336,  0.00712004,  0.00534003,  0.00296669],\n",
       "       [ 0.00123703,  0.00618513,  0.02164796,  0.04638848,  0.06989198,\n",
       "         0.09215844,  0.1280322 ,  0.17565771,  0.21709808,  0.24245712,\n",
       "         0.24926076,  0.2418386 ,  0.22823132,  0.21833511,  0.22019065,\n",
       "         0.23256091,  0.25049779,  0.26657913,  0.27523831,  0.27647533,\n",
       "         0.26657913,  0.24431266,  0.20905741,  0.16514299,  0.11689897,\n",
       "         0.071129  ,  0.03463673,  0.01298877,  0.00247405,  0.00061851,\n",
       "         0.00185554,  0.00247405,  0.00185554,  0.00061851],\n",
       "       [ 0.        ,  0.00067351,  0.01414366,  0.04647203,  0.07947391,\n",
       "         0.10574071,  0.13604856,  0.1744385 ,  0.21148143,  0.23976875,\n",
       "         0.25458592,  0.25593294,  0.24852435,  0.24313629,  0.24717734,\n",
       "         0.25795346,  0.27075011,  0.27748518,  0.27546466,  0.26401503,\n",
       "         0.24178927,  0.2087874 ,  0.16770342,  0.12325191,  0.08082093,\n",
       "         0.04445151,  0.01885822,  0.00606157,  0.00067351,  0.        ,\n",
       "         0.00067351,  0.        ,  0.        ,  0.        ],\n",
       "       [ 0.        ,  0.        ,  0.00459169,  0.03290714,  0.0734671 ,\n",
       "         0.11708819,  0.15305646,  0.18290247,  0.21504433,  0.24412506,\n",
       "         0.26249183,  0.26784881,  0.26478768,  0.26325712,  0.26708353,\n",
       "         0.27550163,  0.28162389,  0.28009333,  0.26784881,  0.24412506,\n",
       "         0.2119832 ,  0.17142324,  0.12703686,  0.08494634,  0.04897807,\n",
       "         0.02295847,  0.00765282,  0.00229585,  0.00076528,  0.        ,\n",
       "         0.        ,  0.        ,  0.        ,  0.        ],\n",
       "       [ 0.        ,  0.        ,  0.        ,  0.01248688,  0.04727175,\n",
       "         0.10167886,  0.15876172,  0.20603347,  0.24438602,  0.26846785,\n",
       "         0.27738705,  0.27560321,  0.27471129,  0.27560321,  0.27917089,\n",
       "         0.28273857,  0.28273857,  0.27292745,  0.25062946,  0.21852035,\n",
       "         0.17749204,  0.13289605,  0.08919198,  0.05262327,  0.02497375,\n",
       "         0.00981112,  0.00267576,  0.00089192,  0.00089192,  0.        ,\n",
       "         0.        ,  0.        ,  0.        ,  0.        ],\n",
       "       [ 0.        ,  0.00111479,  0.        ,  0.        ,  0.01226266,\n",
       "         0.06354286,  0.14046316,  0.21961304,  0.2664341 ,  0.2831559 ,\n",
       "         0.28872984,  0.29095941,  0.28984463,  0.28872984,  0.28984463,\n",
       "         0.28872984,  0.27981154,  0.26197495,  0.23299049,  0.19285815,\n",
       "         0.1460371 ,  0.09921605,  0.05796893,  0.02898446,  0.01114787,\n",
       "         0.00334436,  0.00111479,  0.00111479,  0.00111479,  0.        ,\n",
       "         0.        ,  0.        ,  0.        ,  0.        ],\n",
       "       [ 0.        ,  0.00166793,  0.        ,  0.        ,  0.        ,\n",
       "         0.02168303,  0.08506418,  0.1601208 ,  0.18847553,  0.19848308,\n",
       "         0.26853593,  0.34526048,  0.35193218,  0.33024916,  0.32357746,\n",
       "         0.31690576,  0.29689066,  0.26686801,  0.22516988,  0.17513213,\n",
       "         0.12175853,  0.0733887 ,  0.03502643,  0.0133434 ,  0.00333585,\n",
       "         0.        ,  0.        ,  0.00166793,  0.        ,  0.        ,\n",
       "         0.        ,  0.        ,  0.        ,  0.        ],\n",
       "       [ 0.        ,  0.        ,  0.        ,  0.00218597,  0.        ,\n",
       "         0.        ,  0.01967374,  0.06339317,  0.05464928,  0.06339317,\n",
       "         0.21859712,  0.39128885,  0.41096259,  0.36287122,  0.34756942,\n",
       "         0.33882554,  0.30822194,  0.26668849,  0.21422518,  0.1595759 ,\n",
       "         0.10274065,  0.05464928,  0.02185971,  0.00437194,  0.        ,\n",
       "         0.        ,  0.        ,  0.        ,  0.        ,  0.        ,\n",
       "         0.        ,  0.        ,  0.        ,  0.        ],\n",
       "       [ 0.        ,  0.        ,  0.        ,  0.        ,  0.        ,\n",
       "         0.        ,  0.        ,  0.        ,  0.        ,  0.        ,\n",
       "         0.        ,  0.        ,  0.        ,  0.        ,  0.        ,\n",
       "         0.        ,  0.        ,  0.        ,  0.        ,  0.        ,\n",
       "         0.        ,  0.        ,  0.        ,  0.        ,  0.        ,\n",
       "         0.        ,  0.        ,  0.        ,  0.        ,  0.        ,\n",
       "         0.        ,  0.        ,  0.        ,  0.        ],\n",
       "       [ 0.        ,  0.        ,  0.        ,  0.        ,  0.        ,\n",
       "         0.        ,  0.        ,  0.        ,  0.        ,  0.        ,\n",
       "         0.        ,  0.        ,  0.        ,  0.        ,  0.        ,\n",
       "         0.        ,  0.        ,  0.        ,  0.        ,  0.        ,\n",
       "         0.        ,  0.        ,  0.        ,  0.        ,  0.        ,\n",
       "         0.        ,  0.        ,  0.        ,  0.        ,  0.        ,\n",
       "         0.        ,  0.        ,  0.        ,  0.        ],\n",
       "       [ 0.        ,  0.        ,  0.        ,  0.        ,  0.        ,\n",
       "         0.        ,  0.        ,  0.        ,  0.        ,  0.        ,\n",
       "         0.        ,  0.        ,  0.        ,  0.        ,  0.        ,\n",
       "         0.        ,  0.        ,  0.        ,  0.        ,  0.        ,\n",
       "         0.        ,  0.        ,  0.        ,  0.        ,  0.        ,\n",
       "         0.        ,  0.        ,  0.        ,  0.        ,  0.        ,\n",
       "         0.        ,  0.        ,  0.        ,  0.        ],\n",
       "       [ 0.        ,  0.        ,  0.        ,  0.        ,  0.        ,\n",
       "         0.        ,  0.        ,  0.        ,  0.        ,  0.        ,\n",
       "         0.        ,  0.        ,  0.        ,  0.        ,  0.        ,\n",
       "         0.        ,  0.        ,  0.        ,  0.        ,  0.        ,\n",
       "         0.        ,  0.        ,  0.        ,  0.        ,  0.        ,\n",
       "         0.        ,  0.        ,  0.        ,  0.        ,  0.        ,\n",
       "         0.        ,  0.        ,  0.        ,  0.        ]])"
      ]
     },
     "execution_count": 171,
     "metadata": {},
     "output_type": "execute_result"
    }
   ],
   "source": [
    "np.set_printoptions(threshold=np.inf) #threshold=1000 is default\n",
    "kfoldData[0][0][0].reshape((34,34))"
   ]
  },
  {
   "cell_type": "markdown",
   "metadata": {},
   "source": [
    "# Visualise input data"
   ]
  },
  {
   "cell_type": "code",
   "execution_count": 172,
   "metadata": {
    "scrolled": true
   },
   "outputs": [
    {
     "data": {
      "text/plain": [
       "<matplotlib.image.AxesImage at 0x7f49e03c0a50>"
      ]
     },
     "execution_count": 172,
     "metadata": {},
     "output_type": "execute_result"
    },
    {
     "data": {
      "image/png": "[encoded data removed]",
      "text/plain": [
       "<matplotlib.figure.Figure at 0x7f49e88a78d0>"
      ]
     },
     "metadata": {},
     "output_type": "display_data"
    }
   ],
   "source": [
    "plt.imshow(shufData[30,0].reshape((-1,34)))"
   ]
  },
  {
   "cell_type": "code",
   "execution_count": 173,
   "metadata": {
    "scrolled": true
   },
   "outputs": [
    {
     "data": {
      "text/plain": [
       "<matplotlib.image.AxesImage at 0x7f49e035d850>"
      ]
     },
     "execution_count": 173,
     "metadata": {},
     "output_type": "execute_result"
    },
    {
     "data": {
      "image/png": "[encoded data removed]",
      "text/plain": [
       "<matplotlib.figure.Figure at 0x7f49e02e2490>"
      ]
     },
     "metadata": {},
     "output_type": "display_data"
    }
   ],
   "source": [
    "plt.imshow(shufData[30,1].reshape(-1,34))"
   ]
  },
  {
   "cell_type": "markdown",
   "metadata": {},
   "source": [
    "# Neural net"
   ]
  },
  {
   "cell_type": "code",
   "execution_count": 82,
   "metadata": {
    "collapsed": true
   },
   "outputs": [],
   "source": [
    "spec = []\n",
    "sens = []\n",
    "roc = []"
   ]
  },
  {
   "cell_type": "code",
   "execution_count": 146,
   "metadata": {
    "scrolled": false
   },
   "outputs": [
    {
     "name": "stdout",
     "output_type": "stream",
     "text": [
      "Training Step: 199  | total loss: \u001b[1m\u001b[32m0.48000\u001b[0m\u001b[0m | time: 1.198s\n",
      "| Adam | epoch: 050 | loss: 0.48000 - acc: 0.7973 -- iter: 30/39\n",
      "Training Step: 200  | total loss: \u001b[1m\u001b[32m0.49543\u001b[0m\u001b[0m | time: 1.581s\n",
      "| Adam | epoch: 050 | loss: 0.49543 - acc: 0.7731 -- iter: 39/39\n",
      "--\n"
     ]
    }
   ],
   "source": [
    "for i in np.arange(0,k,1):\n",
    "    sess = tf.InteractiveSession()\n",
    "    tf.reset_default_graph()\n",
    "    tflearn.initializations.normal()\n",
    "\n",
    "    # Input layer:\n",
    "    net = tflearn.layers.core.input_data(shape=[None, 2, 34, 34, 1])\n",
    "\n",
    "    # First layer:\n",
    "    net = tflearn.layers.conv.conv_3d(net, 16, [2,5,5],  activation=\"leaky_relu\")\n",
    "    net = tflearn.layers.conv.max_pool_3d(net, [1,2,2], strides=[1,2,2])\n",
    "\n",
    "    # Second layer:\n",
    "    net = tflearn.layers.conv.conv_3d(net, 32, [2,5,5], activation=\"leaky_relu\")\n",
    "    net = tflearn.layers.conv.max_pool_3d(net, [1,2,2], strides=[1,2,2])\n",
    "\n",
    "    # Fully connected layers\n",
    "    net = tflearn.layers.core.fully_connected(net, 1024, regularizer=\"L2\", weight_decay=0.01, activation=\"leaky_relu\")\n",
    "    net = tflearn.layers.core.dropout(net, keep_prob=0.5)\n",
    "    \n",
    "    net = tflearn.layers.core.fully_connected(net, 1024, regularizer=\"L2\", weight_decay=0.01, activation=\"leaky_relu\")\n",
    "    net = tflearn.layers.core.dropout(net, keep_prob=0.5)\n",
    "\n",
    "    # Output layer:\n",
    "    net = tflearn.layers.core.fully_connected(net, 2, activation=\"softmax\")\n",
    "\n",
    "    net = tflearn.layers.estimator.regression(net, optimizer='adam', learning_rate=0.0001, loss='categorical_crossentropy')\n",
    "    model = tflearn.DNN(net, tensorboard_verbose=0)\n",
    "    \n",
    "    # Train the model, leaving out the kfold not being used\n",
    "    dummyData = np.reshape(np.concatenate(kfoldData[:i] + kfoldData[i+1:], axis=0), [-1, 2, 34, 34, 1])\n",
    "    dummyLabels = np.reshape(np.concatenate(kfoldLabelsOH[:i] + kfoldLabelsOH[i+1:], axis=0), [-1, 2])\n",
    "    model.fit(dummyData, dummyLabels, batch_size=10, n_epoch=50, show_metric=True)\n",
    "    \n",
    "    # Get sensitivity and specificity\n",
    "    illTest = []\n",
    "    healthTest = []\n",
    "    for index, item in enumerate(kfoldLabels[i]):\n",
    "        if item == 1:\n",
    "            illTest.append(kfoldData[i][index])\n",
    "        if item == 0:\n",
    "            healthTest.append(kfoldData[i][index])\n",
    "\n",
    "    healthLabel = np.tile([1,0], (len(healthTest), 1))\n",
    "    illLabel = np.tile([0,1], (len(illTest), 1))\n",
    "    sens.append(model.evaluate(np.array(healthTest), healthLabel))\n",
    "    spec.append(model.evaluate(np.array(illTest), illLabel))\n",
    "\n",
    "    # Get roc curve data\n",
    "    predicted = np.array(model.predict(np.array(kfoldData[i])))\n",
    "    fpr, tpr, th = roc_curve(kfoldLabels[i], predicted[:,1])\n",
    "    auc = roc_auc_score(kfoldLabels[i], predicted[:,1])\n",
    "    roc.append([fpr, tpr, auc])"
   ]
  },
  {
   "cell_type": "markdown",
   "metadata": {},
   "source": [
    "# Postprocessing (specificity, sensitivity, roc curves)"
   ]
  },
  {
   "cell_type": "code",
   "execution_count": 147,
   "metadata": {
    "scrolled": false
   },
   "outputs": [
    {
     "name": "stdout",
     "output_type": "stream",
     "text": [
      "Specificity: [[0.0], [0.38461539149284363], [0.63636362552642822], [0.80000001192092896]] \n",
      "Avg: 0.455244757235 \n",
      "Sensitivity: [[1.0], [0.71428573131561279], [0.375], [0.28571429848670959]] \n",
      "Avg: 0.593750007451 \n",
      "ROC AUC: [0.52556818181818177, 0.63736263736263732, 0.53409090909090917] \n",
      "Avg: 0.534090909091\n"
     ]
    }
   ],
   "source": [
    "aucs = []\n",
    "for i in np.arange(k):\n",
    "    aucs.append(roc[i][2])\n",
    "    \n",
    "print(\"Specificity:\", spec, \"\\nAvg:\", np.mean(spec), \"\\nSensitivity:\", sens, \"\\nAvg:\", np.mean(sens), \"\\nROC AUC:\", aucs, \"\\nAvg:\", np.mean(aucs[:][2]))"
   ]
  },
  {
   "cell_type": "code",
   "execution_count": 148,
   "metadata": {
    "scrolled": true
   },
   "outputs": [
    {
     "data": {
      "image/png": "[encoded data removed]",
      "text/plain": [
       "<matplotlib.figure.Figure at 0x7f49e85c2e10>"
      ]
     },
     "metadata": {},
     "output_type": "display_data"
    }
   ],
   "source": [
    "dt = str(datetime.datetime.now().replace(second=0, microsecond=0).isoformat(\"_\"))\n",
    "\n",
    "plt.figure(figsize=(5, 5))\n",
    "\n",
    "tprs = []\n",
    "base_fpr = np.linspace(0, 1, 101)\n",
    "\n",
    "for i in np.arange(k):\n",
    "    fpr = roc[i][0]\n",
    "    tpr = roc[i][1]\n",
    "    plt.plot(fpr, tpr, alpha=0.15, color=\"darkblue\")\n",
    "    tpr = interp(base_fpr, fpr, tpr)\n",
    "    tpr[0] = 0.0\n",
    "    tprs.append(tpr)\n",
    "\n",
    "tprs = np.array(tprs)\n",
    "mean_tprs = tprs.mean(axis=0)\n",
    "std = tprs.std(axis=0)\n",
    "\n",
    "tprs_upper = np.minimum(mean_tprs + std, 1)\n",
    "tprs_lower = mean_tprs - std\n",
    "\n",
    "plt.plot(base_fpr, mean_tprs, color=\"darkblue\", label=\"Average ROC curve\")\n",
    "plt.fill_between(base_fpr, tprs_lower, tprs_upper, color='lightblue', alpha=0.3)\n",
    "\n",
    "plt.plot([0, 1], [0, 1],'r--', label=\"Random guess\")\n",
    "plt.xlim([-0.01, 1.01])\n",
    "plt.ylim([-0.01, 1.01])\n",
    "plt.ylabel('True Positive Rate')\n",
    "plt.xlabel('False Positive Rate')\n",
    "plt.title('ROC curve '+dt)\n",
    "plt.legend(loc=4)\n",
    "plt.axes().set_aspect('equal', 'datalim')\n",
    "plt.savefig(\"./figures/rocCurves/\"+dt+\"-2dsliceCNN.png\")"
   ]
  },
  {
   "cell_type": "code",
   "execution_count": null,
   "metadata": {
    "collapsed": true
   },
   "outputs": [],
   "source": []
  }
 ],
 "metadata": {
  "kernelspec": {
   "display_name": "Python 3",
   "language": "python",
   "name": "python3"
  },
  "language_info": {
   "codemirror_mode": {
    "name": "ipython",
    "version": 2
   },
   "file_extension": ".py",
   "mimetype": "text/x-python",
   "name": "python",
   "nbconvert_exporter": "python",
   "pygments_lexer": "ipython2",
   "version": "2.7.13"
  }
 },
 "nbformat": 4,
 "nbformat_minor": 2
}
