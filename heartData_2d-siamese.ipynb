{
 "cells": [
  {
   "cell_type": "code",
   "execution_count": 1,
   "metadata": {},
   "outputs": [
    {
     "name": "stdout",
     "output_type": "stream",
     "text": [
      "hdf5 is not supported on this machine (please install/reinstall h5py for optimal experience)\n"
     ]
    }
   ],
   "source": [
    "from __future__ import print_function\n",
    "import numpy as np\n",
    "import dicom\n",
    "import matplotlib.pyplot as plt\n",
    "import os, glob\n",
    "import tensorflow as tf\n",
    "import tflearn\n",
    "import sklearn\n",
    "from numpy import interp\n",
    "from sklearn.metrics import roc_curve, roc_auc_score\n",
    "import scipy\n",
    "import datetime\n",
    "%matplotlib inline"
   ]
  },
  {
   "cell_type": "markdown",
   "metadata": {},
   "source": [
    "# Import and preprocess data"
   ]
  },
  {
   "cell_type": "code",
   "execution_count": 2,
   "metadata": {
    "collapsed": true
   },
   "outputs": [],
   "source": [
    "def importHeartData(calmFile, stressFile, ind, resize):\n",
    "    \"\"\"\n",
    "    Import heart data and extract the pixel array.\n",
    "    Slice halfway along ind axis.\n",
    "    Concatenate and return stress file and calm file.\n",
    "    If resize == 1, interpolate data to fit (34,34) arr.\n",
    "    \"\"\"\n",
    "    calmTmp = dicom.read_file(calmFile).pixel_array\n",
    "    stressTmp = dicom.read_file(stressFile).pixel_array\n",
    "    \n",
    "    calmTmp = cropHeart(calmTmp)\n",
    "    stressTmp = cropHeart(stressTmp)\n",
    "    \n",
    "    # Slice halfway along ind axis\n",
    "    if ind==0:\n",
    "        calm2d = calmTmp[calmTmp.shape[ind]/2]\n",
    "        stress2d = stressTmp[stressTmp.shape[ind]/2]\n",
    "    if ind==1:\n",
    "        calm2d = calmTmp[:,calmTmp.shape[ind]/2]\n",
    "        stress2d = stressTmp[:,stressTmp.shape[ind]/2]\n",
    "    if ind==2:\n",
    "        calm2d = calmTmp[:,:,calmTmp.shape[ind]/2]\n",
    "        stress2d = stressTmp[:,:,stressTmp.shape[ind]/2]\n",
    "\n",
    "           \n",
    "    # Pad the 2d slices with zeros so that they are all the same size\n",
    "    zeroArr0 = np.zeros((34,34))\n",
    "    zeroArr1 = np.zeros((34,34))\n",
    "    \n",
    "    if resize == 1:      \n",
    "        # Resize the 2D slices\n",
    "        calmRatio = 34.0/np.amax(calm2d.shape)\n",
    "        stressRatio = 34.0/np.amax(stress2d.shape)\n",
    "\n",
    "        calm2d = scipy.ndimage.interpolation.zoom(calm2d, (calmRatio))\n",
    "        stress2d = scipy.ndimage.interpolation.zoom(stress2d, (stressRatio))\n",
    "\n",
    "        if calm2d.shape[0] != 34:\n",
    "            startInd = (34 - calm2d.shape[0])/2\n",
    "            zeroArr0[startInd:calm2d.shape[0]+startInd,:calm2d.shape[1]] = calm2d\n",
    "        if calm2d.shape[1] != 34:\n",
    "            startInd = (34 - calm2d.shape[1])/2\n",
    "            zeroArr0[:calm2d.shape[0],startInd:calm2d.shape[1]+startInd] = calm2d\n",
    "\n",
    "        if stress2d.shape[0] != 34:\n",
    "            startInd = (34 - stress2d.shape[0])/2\n",
    "            zeroArr1[startInd:stress2d.shape[0]+startInd,:stress2d.shape[1]] = stress2d\n",
    "        if stress2d.shape[1] != 34:\n",
    "            startInd = (34 - stress2d.shape[1])/2\n",
    "            zeroArr1[:stress2d.shape[0],startInd:stress2d.shape[1]+startInd] = stress2d\n",
    "    \n",
    "    else:\n",
    "        zeroArr0[:calm2d.shape[0],:calm2d.shape[1]] = calm2d\n",
    "        zeroArr1[:stress2d.shape[0],:stress2d.shape[1]] = stress2d\n",
    "      \n",
    "    zeroArr0 = sklearn.preprocessing.normalize(zeroArr0)\n",
    "    zeroArr1 = sklearn.preprocessing.normalize(zeroArr1)\n",
    "\n",
    "    catOut = [zeroArr0, zeroArr1]\n",
    "    return catOut\n",
    "\n",
    "def importDir(parentDir):\n",
    "    \"\"\"\n",
    "    Scan though directories in parent directory; look for dirs labelled \n",
    "    STRESS* or REST* in the imediate subdirs and import any dcm files in them.\n",
    "    Return a dataFile of the concatenated stress and calm *.dcm files.\n",
    "    \"\"\"\n",
    "    tmplst = []\n",
    "    for dirs in os.listdir(parentDir):\n",
    "        cwdStress = glob.glob(parentDir+\"/\"+dirs+\"/STRESS*/*.dcm\")\n",
    "        cwdCalm = glob.glob(parentDir+\"/\"+dirs+\"/REST*/*.dcm\")\n",
    "        # Get slices halfway along x axis:\n",
    "        xAx = importHeartData(cwdCalm[0], cwdStress[0], 0, 1) # zAx, and zoom\n",
    "        tmplst.append(xAx)\n",
    "        \n",
    "    dataFile = np.array(tmplst)\n",
    "    #print(dataFile.shape)\n",
    "    \n",
    "    return dataFile\n",
    "\n",
    "def cropHeart(inp):\n",
    "    \"\"\"\n",
    "    Crop the heart so that all the padding is done away with.\n",
    "    Output cropped heart.\n",
    "    \"\"\"\n",
    "    # argwhere will give you the coordinates of every point above smallest\n",
    "    true_points = np.argwhere(inp)\n",
    "    # take the smallest points and use them as the top left of your crop\n",
    "    top_left = true_points.min(axis=0)\n",
    "    # take the largest points and use them as the bottom right of your crop\n",
    "    bottom_right = true_points.max(axis=0)\n",
    "    out = inp[top_left[0]:bottom_right[0]+1,  # plus 1 because slice isn't\n",
    "          top_left[1]:bottom_right[1]+1,   # inclusive\n",
    "          top_left[2]:bottom_right[2]+1]  \n",
    "    return out\n",
    "\n",
    "def expandData(arr):\n",
    "    \"\"\"\n",
    "    Artificially expand (by factor of 16) 2D data by flipping in the x, y, and rotating 90,180,270 degrees.\n",
    "    \"\"\"\n",
    "    arrx = arr[:,:,:,::-1]\n",
    "    arry = arr[:,:,::-1]\n",
    "    arrxy = arrx[:,:,::-1]\n",
    "    flipArr = np.concatenate((arr,arrx,arry,arrxy))\n",
    "    \n",
    "    flipArr90 = scipy.ndimage.interpolation.rotate(flipArr,90,axes=(2,3))\n",
    "    flipArr180 = scipy.ndimage.interpolation.rotate(flipArr,180,axes=(2,3))\n",
    "    flipArr270 = scipy.ndimage.interpolation.rotate(flipArr,270,axes=(2,3))\n",
    "    \n",
    "    expArr = np.concatenate((flipArr,flipArr90,flipArr180,flipArr270))\n",
    "\n",
    "    return expArr"
   ]
  },
  {
   "cell_type": "code",
   "execution_count": 15,
   "metadata": {
    "scrolled": true
   },
   "outputs": [
    {
     "name": "stdout",
     "output_type": "stream",
     "text": [
      "(20, 2, 34, 34)\n"
     ]
    }
   ],
   "source": [
    "# Do data import\n",
    "abDir = \"./data/rlst\"\n",
    "abDat = importDir(abDir)\n",
    "expAb = expandData(abDat)\n",
    "\n",
    "normDir = \"./data/nlst\"\n",
    "normDat = importDir(normDir)[:abDat.shape[0]] # Normal and abnormal data same number of ppts\n",
    "expNorm = expandData(normDat)\n",
    "\n",
    "inData = np.concatenate((expNorm, expAb)) # Normal and abnormal data same number of ppts\n",
    "\n",
    "# Do labelling\n",
    "normLab = np.zeros(expNorm.shape[0])\n",
    "abLab = np.ones(expAb.shape[0])\n",
    "labels = np.concatenate((normLab, abLab))\n",
    "\n",
    "# Mutual shuffle\n",
    "shufData, shufLab = sklearn.utils.shuffle(inData, labels, random_state=1)\n",
    "shufLabOH = np.eye(2)[shufLab.astype(int)] # One hot encode\n",
    "\n",
    "# k fold the data\n",
    "k = 3\n",
    "kfoldData = np.array_split(shufData, k)\n",
    "kfoldLabelsOH = np.array_split(shufLabOH, k)\n",
    "kfoldLabels = np.array_split(shufLab, k)\n",
    "print(kfoldData[0].shape)"
   ]
  },
  {
   "cell_type": "markdown",
   "metadata": {},
   "source": [
    "# Visualise input data"
   ]
  },
  {
   "cell_type": "code",
   "execution_count": 16,
   "metadata": {
    "scrolled": false
   },
   "outputs": [
    {
     "data": {
      "text/plain": [
       "<matplotlib.image.AxesImage at 0x7fb805770a90>"
      ]
     },
     "execution_count": 16,
     "metadata": {},
     "output_type": "execute_result"
    },
    {
     "data": {
      "image/png": "[encoded data removed]",
      "text/plain": [
       "<matplotlib.figure.Figure at 0x7fb8b0a4fd50>"
      ]
     },
     "metadata": {},
     "output_type": "display_data"
    }
   ],
   "source": [
    "plt.imshow(shufData[50,0])"
   ]
  },
  {
   "cell_type": "code",
   "execution_count": 17,
   "metadata": {
    "scrolled": true
   },
   "outputs": [
    {
     "data": {
      "text/plain": [
       "<matplotlib.image.AxesImage at 0x7fb8b344ee50>"
      ]
     },
     "execution_count": 17,
     "metadata": {},
     "output_type": "execute_result"
    },
    {
     "data": {
      "image/png": "[encoded data removed]",
      "text/plain": [
       "<matplotlib.figure.Figure at 0x7fb8b0ad12d0>"
      ]
     },
     "metadata": {},
     "output_type": "display_data"
    }
   ],
   "source": [
    "plt.imshow(shufData[50,1])"
   ]
  },
  {
   "cell_type": "markdown",
   "metadata": {},
   "source": [
    "# Neural net (siamese)"
   ]
  },
  {
   "cell_type": "code",
   "execution_count": 18,
   "metadata": {
    "collapsed": true
   },
   "outputs": [],
   "source": [
    "spec = []\n",
    "sens = []\n",
    "roc = []"
   ]
  },
  {
   "cell_type": "code",
   "execution_count": 19,
   "metadata": {
    "scrolled": true
   },
   "outputs": [
    {
     "name": "stdout",
     "output_type": "stream",
     "text": [
      "Training Step: 399  | total loss: \u001b[1m\u001b[32m0.12975\u001b[0m\u001b[0m | time: 0.380s\n",
      "| Adam | epoch: 100 | loss: 0.12975 - acc: 0.9566 -- iter: 30/39\n",
      "Training Step: 400  | total loss: \u001b[1m\u001b[32m0.13830\u001b[0m\u001b[0m | time: 0.496s\n",
      "| Adam | epoch: 100 | loss: 0.13830 - acc: 0.9499 -- iter: 39/39\n",
      "--\n"
     ]
    }
   ],
   "source": [
    "def towerNet(reuse=False):\n",
    "    \"\"\" Tower part of similarity network \"\"\"\n",
    "    net = tflearn.layers.core.input_data(shape=[None,34,34,1])\n",
    "    \n",
    "    # First layer\n",
    "    net = tflearn.layers.conv.conv_2d(net, 16, [5,5],  activation=\"leaky_relu\")\n",
    "    net = tflearn.layers.conv.max_pool_2d(net, [2,2], strides=[2,2])\n",
    "\n",
    "    # Second layer\n",
    "    net = tflearn.layers.conv.conv_2d(net, 32, [5,5],  activation=\"leaky_relu\")\n",
    "    net = tflearn.layers.conv.max_pool_2d(net, [2,2], strides=[2,2])\n",
    "    \n",
    "    # FC layers\n",
    "    net = tflearn.layers.core.fully_connected(net, 1024, regularizer=\"L2\", weight_decay=0.01, activation=\"leaky_relu\")\n",
    "    net = tflearn.layers.core.dropout(net, keep_prob=0.5)\n",
    "    net = tflearn.layers.core.fully_connected(net, 1024, regularizer=\"L2\", weight_decay=0.01, activation=\"leaky_relu\")\n",
    "    net = tflearn.layers.core.dropout(net, keep_prob=0.5)\n",
    "    \n",
    "    return net\n",
    "\n",
    "def similarityNet(net0, net1):\n",
    "    \"\"\" Similarity part of Siamese network \"\"\"\n",
    "    net = tflearn.merge([net0,net1], mode='elemwise_sum', name='Merge') # merge net0 and net1 networks\n",
    "    \n",
    "    net = tflearn.layers.core.fully_connected(net, 1024, regularizer=\"L2\", weight_decay=0.01, activation=\"leaky_relu\")\n",
    "    net = tflearn.layers.core.dropout(net, keep_prob=0.5)\n",
    "    net = tflearn.layers.core.fully_connected(net, 1024, regularizer=\"L2\", weight_decay=0.01, activation=\"leaky_relu\")\n",
    "    net = tflearn.layers.core.dropout(net, keep_prob=0.5)\n",
    "    \n",
    "    # Output softmax\n",
    "    net = tflearn.layers.core.fully_connected(net, 2, activation='softmax')\n",
    "    \n",
    "    return net \n",
    "    \n",
    "for i in np.arange(0,k,1):\n",
    "    sess = tf.InteractiveSession()\n",
    "    tf.reset_default_graph()\n",
    "    tflearn.initializations.normal()\n",
    "    \n",
    "    # Train the model, leaving out the kfold not being used\n",
    "    X0 = np.reshape(np.concatenate(kfoldData[:i] + kfoldData[i+1:], axis=0)[:,0], [-1, 34, 34, 1])\n",
    "    X1 = np.reshape(np.concatenate(kfoldData[:i] + kfoldData[i+1:], axis=0)[:,1], [-1, 34, 34, 1])\n",
    "    dummyLabels = np.reshape(np.concatenate(kfoldLabelsOH[:i] + kfoldLabelsOH[i+1:], axis=0), [-1, 2])\n",
    "    \n",
    "    net0 = towerNet()\n",
    "    net1 = towerNet(reuse=True) # reuse == False if pseudo-siamese\n",
    "    \n",
    "    net = similarityNet(net0, net1)\n",
    "    \n",
    "    net = tflearn.layers.estimator.regression(net, optimizer='adam', learning_rate=0.0001, loss='categorical_crossentropy')\n",
    "    \n",
    "    model = tflearn.DNN(net, tensorboard_verbose=0)\n",
    "    model.fit([X0,X1], dummyLabels, batch_size=10, n_epoch=100, show_metric=True)\n",
    "    \n",
    "    # Get sensitivity and specificity\n",
    "    illTest = []\n",
    "    healthTest = []\n",
    "    for index, item in enumerate(kfoldLabels[i]):\n",
    "        if item == 1:\n",
    "            illTest.append(kfoldData[i][index])\n",
    "        if item == 0:\n",
    "            healthTest.append(kfoldData[i][index])\n",
    "\n",
    "    healthLabel = np.tile([1,0], (len(healthTest), 1))\n",
    "    illLabel = np.tile([0,1], (len(illTest), 1))\n",
    "    \n",
    "    healthTest = np.reshape(healthTest,(-1,2,34,34,1))\n",
    "    illTest= np.reshape(illTest,(-1,2,34,34,1))\n",
    "    \n",
    "    sens.append(model.evaluate([healthTest[:,0],healthTest[:,1]], healthLabel))\n",
    "    spec.append(model.evaluate([illTest[:,0],illTest[:,1]], illLabel))\n",
    "\n",
    "    # Get roc curve data\n",
    "    testX0 = np.reshape(kfoldData[i][:,0],(-1,34,34,1))\n",
    "    testX1 = np.reshape(kfoldData[i][:,1],(-1,34,34,1))\n",
    "    predicted = np.array(model.predict([testX0,testX1]))\n",
    "    fpr, tpr, th = roc_curve(kfoldLabels[i], predicted[:,1])\n",
    "    auc = roc_auc_score(kfoldLabels[i], predicted[:,1])\n",
    "    roc.append([fpr, tpr, auc])"
   ]
  },
  {
   "cell_type": "markdown",
   "metadata": {},
   "source": [
    "# Postprocessing (specificity, sensitivity, roc curves)"
   ]
  },
  {
   "cell_type": "code",
   "execution_count": 20,
   "metadata": {
    "scrolled": false
   },
   "outputs": [
    {
     "name": "stdout",
     "output_type": "stream",
     "text": [
      "Specificity: [[0.38461539149284363], [0.090909093618392944], [0.40000000596046448]] \n",
      "Avg: 0.291841497024 \n",
      "Sensitivity: [[0.71428573131561279], [1.0], [0.57142859697341919]] \n",
      "Avg: 0.761904776096 \n",
      "ROC AUC: [0.5494505494505495, 0.69318181818181823, 0.5] \n",
      "Avg: 0.580877455877\n"
     ]
    }
   ],
   "source": [
    "aucs = []\n",
    "for i in np.arange(k):\n",
    "    aucs.append(roc[i][2])\n",
    "    \n",
    "print(\"Specificity:\", spec, \"\\nAvg:\", np.mean(spec), \"\\nSensitivity:\", sens, \"\\nAvg:\", np.mean(sens), \"\\nROC AUC:\", aucs, \"\\nAvg:\", np.mean(aucs))"
   ]
  },
  {
   "cell_type": "code",
   "execution_count": 21,
   "metadata": {
    "scrolled": true
   },
   "outputs": [
    {
     "data": {
      "image/png": "[encoded data removed]",
      "text/plain": [
       "<matplotlib.figure.Figure at 0x7fb8b341d150>"
      ]
     },
     "metadata": {},
     "output_type": "display_data"
    }
   ],
   "source": [
    "dt = str(datetime.datetime.now().replace(second=0, microsecond=0).isoformat(\"_\"))\n",
    "\n",
    "plt.figure(figsize=(5, 5))\n",
    "\n",
    "tprs = []\n",
    "base_fpr = np.linspace(0, 1, 101)\n",
    "\n",
    "for i in np.arange(k):\n",
    "    fpr = roc[i][0]\n",
    "    tpr = roc[i][1]\n",
    "    plt.plot(fpr, tpr, alpha=0.15, color=\"darkblue\")\n",
    "    tpr = interp(base_fpr, fpr, tpr)\n",
    "    tpr[0] = 0.0\n",
    "    tprs.append(tpr)\n",
    "\n",
    "tprs = np.array(tprs)\n",
    "mean_tprs = tprs.mean(axis=0)\n",
    "std = tprs.std(axis=0)\n",
    "\n",
    "tprs_upper = np.minimum(mean_tprs + std, 1)\n",
    "tprs_lower = mean_tprs - std\n",
    "\n",
    "plt.plot(base_fpr, mean_tprs, color=\"darkblue\", label=\"Average ROC curve\")\n",
    "plt.fill_between(base_fpr, tprs_lower, tprs_upper, color='lightblue', alpha=0.3)\n",
    "\n",
    "plt.plot([0, 1], [0, 1],'r--', label=\"Random guess\")\n",
    "plt.xlim([-0.01, 1.01])\n",
    "plt.ylim([-0.01, 1.01])\n",
    "plt.ylabel('True Positive Rate')\n",
    "plt.xlabel('False Positive Rate')\n",
    "plt.title('ROC curve '+dt)\n",
    "plt.legend(loc=4)\n",
    "plt.axes().set_aspect('equal', 'datalim')\n",
    "#plt.savefig(\"./figures/rocCurves/\"+dt+\"-2dsliceCNN.png\")"
   ]
  }
 ],
 "metadata": {
  "kernelspec": {
   "display_name": "Python 3",
   "language": "python",
   "name": "python3"
  },
  "language_info": {
   "codemirror_mode": {
    "name": "ipython",
    "version": 2
   },
   "file_extension": ".py",
   "mimetype": "text/x-python",
   "name": "python",
   "nbconvert_exporter": "python",
   "pygments_lexer": "ipython2",
   "version": "2.7.13"
  }
 },
 "nbformat": 4,
 "nbformat_minor": 2
}
